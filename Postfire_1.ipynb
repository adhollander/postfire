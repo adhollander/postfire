{
 "cells": [
  {
   "cell_type": "markdown",
   "metadata": {},
   "source": [
    "# The Beginning\n",
    "\n",
    "Let's get some coded traits tables into here."
   ]
  },
  {
   "cell_type": "code",
   "execution_count": 3,
   "metadata": {},
   "outputs": [],
   "source": [
    "import pandas as pd\n",
    "import numpy as np\n",
    "from __future__ import print_function\n",
    "from ipywidgets import interact, interactive, fixed, interact_manual\n",
    "import ipywidgets as widgets"
   ]
  },
  {
   "cell_type": "code",
   "execution_count": 2,
   "metadata": {},
   "outputs": [
    {
     "data": {
      "text/html": [
       "<div>\n",
       "<style scoped>\n",
       "    .dataframe tbody tr th:only-of-type {\n",
       "        vertical-align: middle;\n",
       "    }\n",
       "\n",
       "    .dataframe tbody tr th {\n",
       "        vertical-align: top;\n",
       "    }\n",
       "\n",
       "    .dataframe thead th {\n",
       "        text-align: right;\n",
       "    }\n",
       "</style>\n",
       "<table border=\"1\" class=\"dataframe\">\n",
       "  <thead>\n",
       "    <tr style=\"text-align: right;\">\n",
       "      <th></th>\n",
       "      <th>Species</th>\n",
       "      <th>Common name</th>\n",
       "      <th>low severity</th>\n",
       "      <th>high severity</th>\n",
       "      <th>North</th>\n",
       "      <th>East</th>\n",
       "      <th>South</th>\n",
       "      <th>West</th>\n",
       "    </tr>\n",
       "  </thead>\n",
       "  <tbody>\n",
       "    <tr>\n",
       "      <th>0</th>\n",
       "      <td>Adenostoma fasciculatum</td>\n",
       "      <td>Chamise chaparral</td>\n",
       "      <td>Sprouter, seeder</td>\n",
       "      <td>Seeder, poor_sprouter</td>\n",
       "      <td>Sprouter</td>\n",
       "      <td>NaN</td>\n",
       "      <td>Seeder</td>\n",
       "      <td>Seeder</td>\n",
       "    </tr>\n",
       "    <tr>\n",
       "      <th>1</th>\n",
       "      <td>Salvia mellifera</td>\n",
       "      <td>Black sage scrub</td>\n",
       "      <td>Seeder, sprouter</td>\n",
       "      <td>Seeder</td>\n",
       "      <td>NaN</td>\n",
       "      <td>NaN</td>\n",
       "      <td>NaN</td>\n",
       "      <td>NaN</td>\n",
       "    </tr>\n",
       "    <tr>\n",
       "      <th>2</th>\n",
       "      <td>Eriodictyon crassifolium</td>\n",
       "      <td>Yerba santa</td>\n",
       "      <td>Sprouter, seeder</td>\n",
       "      <td>Sprouter, seeder</td>\n",
       "      <td>NaN</td>\n",
       "      <td>NaN</td>\n",
       "      <td>NaN</td>\n",
       "      <td>NaN</td>\n",
       "    </tr>\n",
       "    <tr>\n",
       "      <th>3</th>\n",
       "      <td>Eriogonum fasciculatum</td>\n",
       "      <td>California buckwheat</td>\n",
       "      <td>Seeder, poor_sprouter</td>\n",
       "      <td>seeder</td>\n",
       "      <td>NaN</td>\n",
       "      <td>NaN</td>\n",
       "      <td>NaN</td>\n",
       "      <td>NaN</td>\n",
       "    </tr>\n",
       "    <tr>\n",
       "      <th>4</th>\n",
       "      <td>Artemisa californica</td>\n",
       "      <td>California sagebrush</td>\n",
       "      <td>Sprouter, seeder</td>\n",
       "      <td>Sprouter, very_poor_seeder</td>\n",
       "      <td>Sprouter</td>\n",
       "      <td>Sprouter</td>\n",
       "      <td>Sprouter, seeder</td>\n",
       "      <td>Sprouter</td>\n",
       "    </tr>\n",
       "  </tbody>\n",
       "</table>\n",
       "</div>"
      ],
      "text/plain": [
       "                    Species           Common name           low severity  \\\n",
       "0   Adenostoma fasciculatum     Chamise chaparral       Sprouter, seeder   \n",
       "1          Salvia mellifera      Black sage scrub       Seeder, sprouter   \n",
       "2  Eriodictyon crassifolium           Yerba santa       Sprouter, seeder   \n",
       "3    Eriogonum fasciculatum  California buckwheat  Seeder, poor_sprouter   \n",
       "4      Artemisa californica  California sagebrush       Sprouter, seeder   \n",
       "\n",
       "               high severity      North      East             South      West  \n",
       "0       Seeder, poor_sprouter  Sprouter       NaN            Seeder    Seeder  \n",
       "1                      Seeder       NaN       NaN               NaN       NaN  \n",
       "2            Sprouter, seeder       NaN       NaN               NaN       NaN  \n",
       "3                    seeder         NaN       NaN               NaN       NaN  \n",
       "4  Sprouter, very_poor_seeder  Sprouter  Sprouter  Sprouter, seeder  Sprouter  "
      ]
     },
     "execution_count": 2,
     "metadata": {},
     "output_type": "execute_result"
    }
   ],
   "source": [
    "    traits1 = pd.read_csv(\"./Traits_for_import_1.csv\", delimiter=\"\\t\")\n",
    "    traits1"
   ]
  },
  {
   "cell_type": "code",
   "execution_count": 4,
   "metadata": {},
   "outputs": [
    {
     "data": {
      "text/plain": [
       "Species           object\n",
       "Common name       object\n",
       "low severity      object\n",
       "high severity     object\n",
       "North             object\n",
       "East              object\n",
       "South             object\n",
       "West              object\n",
       "dtype: object"
      ]
     },
     "execution_count": 4,
     "metadata": {},
     "output_type": "execute_result"
    }
   ],
   "source": [
    "traits1.dtypes"
   ]
  },
  {
   "cell_type": "code",
   "execution_count": 5,
   "metadata": {},
   "outputs": [
    {
     "data": {
      "text/plain": [
       "0     Adenostoma fasciculatum\n",
       "1            Salvia mellifera\n",
       "2    Eriodictyon crassifolium\n",
       "3      Eriogonum fasciculatum\n",
       "4        Artemisa californica\n",
       "Name: Species, dtype: object"
      ]
     },
     "execution_count": 5,
     "metadata": {},
     "output_type": "execute_result"
    }
   ],
   "source": [
    "traits1.Species"
   ]
  },
  {
   "cell_type": "code",
   "execution_count": 8,
   "metadata": {},
   "outputs": [
    {
     "data": {
      "text/html": [
       "<div>\n",
       "<style scoped>\n",
       "    .dataframe tbody tr th:only-of-type {\n",
       "        vertical-align: middle;\n",
       "    }\n",
       "\n",
       "    .dataframe tbody tr th {\n",
       "        vertical-align: top;\n",
       "    }\n",
       "\n",
       "    .dataframe thead th {\n",
       "        text-align: right;\n",
       "    }\n",
       "</style>\n",
       "<table border=\"1\" class=\"dataframe\">\n",
       "  <thead>\n",
       "    <tr style=\"text-align: right;\">\n",
       "      <th></th>\n",
       "      <th>Species</th>\n",
       "      <th>Common name</th>\n",
       "      <th>low severity</th>\n",
       "      <th>high severity</th>\n",
       "      <th>North</th>\n",
       "      <th>East</th>\n",
       "      <th>South</th>\n",
       "      <th>West</th>\n",
       "    </tr>\n",
       "  </thead>\n",
       "  <tbody>\n",
       "    <tr>\n",
       "      <th>0</th>\n",
       "      <td>Adenostoma fasciculatum</td>\n",
       "      <td>Chamise chaparral</td>\n",
       "      <td>Sprouter, seeder</td>\n",
       "      <td>Seeder, poor_sprouter</td>\n",
       "      <td>Sprouter</td>\n",
       "      <td>NaN</td>\n",
       "      <td>Seeder</td>\n",
       "      <td>Seeder</td>\n",
       "    </tr>\n",
       "  </tbody>\n",
       "</table>\n",
       "</div>"
      ],
      "text/plain": [
       "                   Species        Common name      low severity  \\\n",
       "0  Adenostoma fasciculatum  Chamise chaparral  Sprouter, seeder   \n",
       "\n",
       "          high severity      North East   South    West  \n",
       "0  Seeder, poor_sprouter  Sprouter  NaN  Seeder  Seeder  "
      ]
     },
     "execution_count": 8,
     "metadata": {},
     "output_type": "execute_result"
    }
   ],
   "source": [
    "traits1[0:1]"
   ]
  },
  {
   "cell_type": "code",
   "execution_count": 4,
   "metadata": {},
   "outputs": [],
   "source": [
    "specieslist = traits1.Species"
   ]
  },
  {
   "cell_type": "code",
   "execution_count": 5,
   "metadata": {},
   "outputs": [
    {
     "data": {
      "text/plain": [
       "0     Adenostoma fasciculatum\n",
       "1            Salvia mellifera\n",
       "2    Eriodictyon crassifolium\n",
       "3      Eriogonum fasciculatum\n",
       "4        Artemisa californica\n",
       "Name: Species, dtype: object"
      ]
     },
     "execution_count": 5,
     "metadata": {},
     "output_type": "execute_result"
    }
   ],
   "source": [
    "specieslist"
   ]
  },
  {
   "cell_type": "code",
   "execution_count": 6,
   "metadata": {},
   "outputs": [
    {
     "data": {
      "text/plain": [
       "'Salvia mellifera'"
      ]
     },
     "execution_count": 6,
     "metadata": {},
     "output_type": "execute_result"
    }
   ],
   "source": [
    "specieslist[1]"
   ]
  },
  {
   "cell_type": "code",
   "execution_count": 7,
   "metadata": {},
   "outputs": [],
   "source": [
    "specchoice = widgets.Select(\n",
    "    options=specieslist,\n",
    "    description=\"Species:\",\n",
    "    disabled=False)"
   ]
  },
  {
   "cell_type": "code",
   "execution_count": 8,
   "metadata": {},
   "outputs": [
    {
     "data": {
      "application/vnd.jupyter.widget-view+json": {
       "model_id": "8e69f47acd48471592d2f338dcc6089b",
       "version_major": 2,
       "version_minor": 0
      },
      "text/plain": [
       "Select(description='Species:', options=('Adenostoma fasciculatum', 'Salvia mellifera', 'Eriodictyon crassifoli…"
      ]
     },
     "metadata": {},
     "output_type": "display_data"
    }
   ],
   "source": [
    "specchoice"
   ]
  },
  {
   "cell_type": "code",
   "execution_count": 9,
   "metadata": {},
   "outputs": [
    {
     "data": {
      "text/plain": [
       "'Eriogonum fasciculatum'"
      ]
     },
     "execution_count": 9,
     "metadata": {},
     "output_type": "execute_result"
    }
   ],
   "source": [
    "specchoice.value"
   ]
  },
  {
   "cell_type": "code",
   "execution_count": 10,
   "metadata": {},
   "outputs": [],
   "source": [
    "specchoice.value = \"Salvia mellifera\""
   ]
  },
  {
   "cell_type": "code",
   "execution_count": null,
   "metadata": {},
   "outputs": [],
   "source": []
  }
 ],
 "metadata": {
  "kernelspec": {
   "display_name": "Python 3",
   "language": "python",
   "name": "python3"
  },
  "language_info": {
   "codemirror_mode": {
    "name": "ipython",
    "version": 3
   },
   "file_extension": ".py",
   "mimetype": "text/x-python",
   "name": "python",
   "nbconvert_exporter": "python",
   "pygments_lexer": "ipython3",
   "version": "3.6.5"
  }
 },
 "nbformat": 4,
 "nbformat_minor": 2
}
