{
 "cells": [
  {
   "cell_type": "markdown",
   "metadata": {},
   "source": [
    "\n",
    "<div style=\"font-size:2em; color:blue; font-weight:bold; text-align: center;\">\n",
    "Post-fire Restoration Tool for Chaparral Shrublands\n",
    "    </div>\n",
    "\n",
    "<ul style=\"font-size: 1.4em; color: blue;\">\n",
    "    \n",
    "<li style=\"margin: 0 0 5px 0\">The Post-Fire Restoration Tool provides a transparent and repeatable framework for resource managers to guide and prioritize post-fire restoration efforts in shrublands (see technical guide). The tool consists of five main steps (see schematic) to determine the regeneration capacity of the landscape post-fire based on the relative proportion of seeding, resprouting, and facultative seeding species, and the risk of post-fire soil erosion.</li>\n",
    "\n",
    "<li style=\"margin: 0 0 5px 0\">Before running the tool it is necessary to have the data associated with the tool in the directory labeled 'datasets' below the location of the .ipynb file for the tool (see Technical Guide). </li> \n",
    "\n",
    "<li style=\"margin: 0 0 5px 0\">To view the tool with the programming code, click on the link on the line below the figure. </li>\n",
    "</ul>\n",
    "\n",
    "\n",
    "\n",
    "![Framework for Modeling Regeneration](images/Figure1.png)"
   ]
  },
  {
   "cell_type": "code",
   "execution_count": 2,
   "metadata": {
    "scrolled": false
   },
   "outputs": [
    {
     "data": {
      "text/html": [
       "<script>\n",
       "code_show=true; \n",
       "function code_toggle() {\n",
       " if (code_show){\n",
       " $('div.input').hide();\n",
       " } else {\n",
       " $('div.input').show();\n",
       " }\n",
       " code_show = !code_show\n",
       "} \n",
       "$( document ).ready(code_toggle);\n",
       "</script>\n",
       "The raw code for this Jupyter notebook is by default hidden for easier reading.\n",
       "To toggle on/off the raw code, click <a href=\"javascript:code_toggle()\">here</a>."
      ],
      "text/plain": [
       "<IPython.core.display.HTML object>"
      ]
     },
     "execution_count": 2,
     "metadata": {},
     "output_type": "execute_result"
    }
   ],
   "source": [
    "# see https://stackoverflow.com/questions/32714783/ipython-run-all-cells-below-from-a-widget\n",
    "# for idea on how to get code executing above (not below) a widget.\n",
    "\n",
    "from IPython.display import HTML\n",
    "HTML('''<script>\n",
    "code_show=true; \n",
    "function code_toggle() {\n",
    " if (code_show){\n",
    " $('div.input').hide();\n",
    " } else {\n",
    " $('div.input').show();\n",
    " }\n",
    " code_show = !code_show\n",
    "} \n",
    "$( document ).ready(code_toggle);\n",
    "</script>\n",
    "The raw code for this Jupyter notebook is by default hidden for easier reading.\n",
    "To toggle on/off the raw code, click <a href=\"javascript:code_toggle()\">here</a>.''')"
   ]
  },
  {
   "cell_type": "code",
   "execution_count": 3,
   "metadata": {
    "code_folding": [],
    "scrolled": false
   },
   "outputs": [],
   "source": [
    "# basic imports\n",
    "import pandas as pd\n",
    "import numpy as np\n",
    "import xarray as xr\n",
    "import ipywidgets as widgets\n",
    "import traitlets\n",
    "from tkinter import Tk, filedialog\n",
    "from IPython.display import Javascript\n",
    "\n",
    "# more imports\n",
    "import pyproj\n",
    "import numpy as np\n",
    "import matplotlib\n",
    "import matplotlib.pyplot as plt\n",
    "import gdal\n",
    "import rasterio\n"
   ]
  },
  {
   "cell_type": "code",
   "execution_count": 4,
   "metadata": {
    "code_folding": [],
    "scrolled": false
   },
   "outputs": [
    {
     "data": {
      "text/html": [
       "<style>\n",
       "hr {height: 2px; color: black;}\n",
       "p {font-size: 1.2em;}\n",
       "h2 {color: black}\n",
       ".highcol {background-color: #00BF57;}\n",
       ".midcol {background-color: #FFC000;}\n",
       ".lowcol {background-color: red;}\n",
       ".vhighcol {background-color: #C00000; color: white}\n",
       ".tsh {font-style: italic}\n",
       ".tmh {font-weight: bold; text-align: center}\n",
       "\n",
       ".infotext {color: blue; font-size: 1.3em}\n",
       "td {font-size: 1.2em}           \n",
       ".infobox {border-style: none;\n",
       "          border-color: blue;\n",
       "          border-width: 1px;\n",
       "          font-style: normal;\n",
       "          font-size: 1.2em;\n",
       "          color: blue;}\n",
       "td.fwdt {border: 2px;}\n",
       "#nonnative table, #nonnative td { border: 1px solid black;}\n",
       "#erosionvuln table, #erosionvuln td { border: 1px solid black;}\n",
       "#regentab table, #regentab td { border: 1px solid black;}\n",
       "#firefreq table, #firefreq td { border: 1px solid black;}\n",
       "#droughtpretab table, #droughtpretab td { border: 1px solid black;}\n",
       "#postfiretab table, #postfiretab td { border: 1px solid black;}\n",
       "#postfiretab2 table, #postfiretab2 td { border: 1px solid black;}\n",
       "#fakewidget table, #fakewidget td { border: 1px solid black;}\n",
       "\n",
       "           \n",
       "\n",
       "\n",
       "\n",
       "\n",
       "\n",
       "div.vertical\n",
       "{\n",
       " transform: rotate(-90deg);\n",
       " -webkit-transform: rotate(-90deg); /* Safari/Chrome */\n",
       " -moz-transform: rotate(-90deg); /* Firefox */\n",
       " -o-transform: rotate(-90deg); /* Opera */\n",
       " -ms-transform: rotate(-90deg); /* IE 9 */\n",
       "}\n",
       "</style>\n"
      ],
      "text/plain": [
       "<IPython.core.display.HTML object>"
      ]
     },
     "metadata": {},
     "output_type": "display_data"
    }
   ],
   "source": [
    "%%html\n",
    "<style>\n",
    "hr {height: 2px; color: black;}\n",
    "p {font-size: 1.2em;}\n",
    "h2 {color: black}\n",
    ".highcol {background-color: #00BF57;}\n",
    ".midcol {background-color: #FFC000;}\n",
    ".lowcol {background-color: red;}\n",
    ".vhighcol {background-color: #C00000; color: white}\n",
    ".tsh {font-style: italic}\n",
    ".tmh {font-weight: bold; text-align: center}\n",
    "\n",
    ".infotext {color: blue; font-size: 1.3em}\n",
    "td {font-size: 1.2em}           \n",
    ".infobox {border-style: none;\n",
    "          border-color: blue;\n",
    "          border-width: 1px;\n",
    "          font-style: normal;\n",
    "          font-size: 1.2em;\n",
    "          color: blue;}\n",
    "td.fwdt {border: 2px;}\n",
    "#nonnative table, #nonnative td { border: 1px solid black;}\n",
    "#erosionvuln table, #erosionvuln td { border: 1px solid black;}\n",
    "#regentab table, #regentab td { border: 1px solid black;}\n",
    "#firefreq table, #firefreq td { border: 1px solid black;}\n",
    "#droughtpretab table, #droughtpretab td { border: 1px solid black;}\n",
    "#postfiretab table, #postfiretab td { border: 1px solid black;}\n",
    "#postfiretab2 table, #postfiretab2 td { border: 1px solid black;}\n",
    "#fakewidget table, #fakewidget td { border: 1px solid black;}\n",
    "\n",
    "           \n",
    "\n",
    "\n",
    "\n",
    "\n",
    "\n",
    "div.vertical\n",
    "{\n",
    " transform: rotate(-90deg);\n",
    " -webkit-transform: rotate(-90deg); /* Safari/Chrome */\n",
    " -moz-transform: rotate(-90deg); /* Firefox */\n",
    " -o-transform: rotate(-90deg); /* Opera */\n",
    " -ms-transform: rotate(-90deg); /* IE 9 */\n",
    "}\n",
    "</style>"
   ]
  },
  {
   "cell_type": "code",
   "execution_count": 5,
   "metadata": {
    "scrolled": false
   },
   "outputs": [],
   "source": [
    "# Main functions and definitions\n",
    "\n",
    "# code for downloading\n",
    "#### taken from https://github.com/robintw/XArrayAndRasterio/blob/master/rasterio_to_xarray.py\n",
    "def xarray_to_rasterio(xa, output_filename):\n",
    "    \"\"\"Converts the given xarray.DataArray object to a raster output file\n",
    "    using rasterio.\n",
    "    Arguments:\n",
    "     - `xa`: The xarray.DataArray to convert\n",
    "     - `output_filename`: the filename to store the output GeoTIFF file in\n",
    "    Notes:\n",
    "    Converts the given xarray.DataArray to a GeoTIFF output file using rasterio.\n",
    "    This function only supports 2D or 3D DataArrays, and GeoTIFF output.\n",
    "    The input DataArray must have attributes (stored as xa.attrs) specifying\n",
    "    geographic metadata, or the output will have _no_ geographic information.\n",
    "    If the DataArray uses dask as the storage backend then this function will\n",
    "    force a load of the raw data.\n",
    "    \"\"\"\n",
    "    # Forcibly compute the data, to ensure that all of the metadata is\n",
    "    # the same as the actual data (ie. dtypes are the same etc)\n",
    "    xa = xa.load()\n",
    "\n",
    "    if len(xa.shape) == 2:\n",
    "        count = 1\n",
    "        height = xa.shape[0]\n",
    "        width = xa.shape[1]\n",
    "        band_indicies = 1\n",
    "    else:\n",
    "        count = xa.shape[0]\n",
    "        height = xa.shape[1]\n",
    "        width = xa.shape[2]\n",
    "        band_indicies = np.arange(count) + 1\n",
    "\n",
    "    processed_attrs = {}\n",
    "\n",
    "    try:\n",
    "        # val = xa.attrs['affine']\n",
    "        # processed_attrs['affine'] = rasterio.Affine.from_gdal(*val)\\\n",
    "        # the rasterio api changed between when the borrowed code was written and now.\n",
    "        # the val2 assignment statement gets the affine transform parameters in the right order.\n",
    "        val = xa.attrs['transform']\n",
    "        val2 = [val[2], val[0], val[1], val[5], val[3], val[4]]\n",
    "        # print(val2)\n",
    "        processed_attrs['transform'] = rasterio.Affine.from_gdal(*val2)\n",
    "    except KeyError:\n",
    "        print(\"error with Affine\") # triggered!\n",
    "        #pass\n",
    "\n",
    "    try:\n",
    "        val = xa.attrs['crs']\n",
    "        processed_attrs['crs'] = rasterio.crs.CRS.from_string(val)\n",
    "    except KeyError:\n",
    "        pass\n",
    "\n",
    "    with rasterio.open(output_filename, 'w',\n",
    "                       driver='GTiff',\n",
    "                       height=height, width=width,\n",
    "                       dtype=str(xa.dtype), count=count,\n",
    "                       **processed_attrs) as dst:\n",
    "        dst.write(xa.values, band_indicies)\n",
    "###\n",
    "\n",
    "# taken from https://codereview.stackexchange.com/questions/162920/file-selection-button-for-jupyter-notebook\n",
    "class SelectFilesButton(widgets.Button):\n",
    "    \"\"\"A file widget that leverages tkinter.filedialog.\"\"\"\n",
    "\n",
    "    def __init__(self):\n",
    "        super(SelectFilesButton, self).__init__()\n",
    "        # Add the selected_files trait\n",
    "        self.add_traits(file2=traitlets.traitlets.Unicode())\n",
    "        # Create the button.\n",
    "        self.description = \"Select File\"\n",
    "        self.icon = \"square-o\"\n",
    "        self.style.button_color = \"orange\"\n",
    "        # Set on click behavior.\n",
    "        self.on_click(self.select_files)\n",
    "\n",
    "    @staticmethod\n",
    "    def select_files(b):\n",
    "        \"\"\"Generate instance of tkinter.filedialog.\n",
    "\n",
    "        Parameters\n",
    "        ----------\n",
    "        b : obj:\n",
    "            An instance of ipywidgets.widgets.Button \n",
    "        \"\"\"\n",
    "        # Create Tk root\n",
    "        root = Tk()\n",
    "        # Hide the main window\n",
    "        root.withdraw()\n",
    "        # Raise the root to the top of all windows.\n",
    "        root.call('wm', 'attributes', '.', '-topmost', True)\n",
    "        # List of selected fileswill be set to b.value\n",
    "        b.file2 = filedialog.askopenfilename(multiple=False)\n",
    "\n",
    "        b.description = \"Files Selected\"\n",
    "        b.icon = \"check-square-o\"\n",
    "        b.style.button_color = \"lightgreen\"\n",
    "\n",
    "class SaveFileButton(widgets.Button):\n",
    "    \"\"\"A file widget that leverages tkinter.filedialog.\"\"\"\n",
    "\n",
    "    def __init__(self, outxarrdata):\n",
    "        super(SaveFileButton, self).__init__()\n",
    "        # Add the selected_files trait\n",
    "        self.add_traits(files=traitlets.traitlets.List())\n",
    "        self.outdata = outxarrdata\n",
    "        # Create the button.\n",
    "        self.description = \"Download output data\"\n",
    "        self.style.button_color = \"#D4D4D4\"\n",
    "        # Set on click behavior.\n",
    "        self.on_click(self.save_file)\n",
    "\n",
    "    @staticmethod\n",
    "    def save_file(b):\n",
    "        \"\"\"Generate instance of tkinter.filedialog.\n",
    "\n",
    "        Parameters\n",
    "        ----------\n",
    "        b : obj:\n",
    "            An instance of ipywidgets.widgets.Button \n",
    "        \"\"\"\n",
    "        # Create Tk root\n",
    "        root = Tk()\n",
    "        # Hide the main window\n",
    "        root.withdraw()\n",
    "        # Raise the root to the top of all windows.\n",
    "        root.call('wm', 'attributes', '.', '-topmost', True)\n",
    "        # List of selected fileswill be set to b.value\n",
    "        b.files = [filedialog.asksaveasfilename()]\n",
    "\n",
    "        b.description = \"Download output data\"\n",
    "        b.style.button_color = \"#D4D4D4\"\n",
    "        print(\"Saved file as\" + b.files[0])\n",
    "        #regenrast.to_netcdf(b.files[0])\n",
    "        #b.outdata.to_netcdf(b.files[0])\n",
    "        xarray_to_rasterio(b.outdata, b.files[0]) \n",
    "\n",
    "# Color maps for the plots\n",
    "redorangegreen = np.array([(255/255, 0/255, 0/255, 1), (255/255, 111/255, 0/255, 1),\n",
    "                         (255/255, 192/255, 0/255, 1),(158/255, 217/255, 0/255, 1),(0/255, 176/255, 80/255, 1)])\n",
    "redorangegreencm = matplotlib.colors.ListedColormap(redorangegreen)\n",
    "greenorangeredcm = matplotlib.colors.ListedColormap(redorangegreen[::-1])\n",
    "greenorangeredcm4 = matplotlib.colors.ListedColormap(redorangegreen[::-1][0:4])\n",
    "veryredorangegreen =  np.array([(196/255, 0/255, 0/255, 1), (255/255, 0/255, 0/255, 1),\n",
    "                         (255/255, 192/255, 0/255, 1),(0/255, 176/255, 80/255, 1)])\n",
    "veryredorangegreencm = matplotlib.colors.ListedColormap(veryredorangegreen[::-1])\n",
    "roglabels = ['High', 'Moderate-high', 'Moderate', 'Moderate-low', 'Low']\n",
    "invroglabels = roglabels[::-1]\n",
    "\n",
    "# We will create a dictionary in lieu for now of building a widget for the proportion of resprouters and facultative seeders\n",
    "# for each veg topo class\n",
    "# resproutproportion = {4 : 'high',   # Mixed chaparral: south-facing slopes; summits; ridges\n",
    "#                      5: 'high',   # Mixed chaparral: north-facing slopws; valleys; depressions\n",
    "#                      2 : 'average', # Chamise-redshank chaparral: south-facing slopes; summits; ridges\n",
    "#                      3 : 'average', # Chamise-redshank chaparral: north-facing slopws; valleys; depressions\n",
    "#                      8 : 'average', # Coastal scrub: south-facing slopes; summits; ridges\n",
    "#                      9 : 'average',    # Coastal scrub: north-facing slopws; valleys; depressions\n",
    "#                      6 : 'low',    # Valley-foothill riparian: south-facing slopes; summits; ridges\n",
    "#                      7 : None,     # Valley-foothill riparian: north-facing slopws; valleys; depressions\n",
    "#                      0 : None,     # Annual grassland: south-facing slopes; summits; ridges\n",
    "#                      1 : 'low',    # Annual grassland: north-facing slopws; valleys; depressions\n",
    "#                     10: 'low',    # Other: south-facing slopes; summits; ridges\n",
    "#                      11: None}     # Other: north-facing slopws; valleys; depressions\n",
    "\n",
    "# I'm coding the table in Slide 4 as a dictionary lookup. The mapping is\n",
    "# [intrinsic self-succession capacity, regeneration rate] -> expected regeneration\n",
    "\n",
    "expregendict = {('high', 'high'):  'high',\n",
    "            ('high', 'average'):  'average', \n",
    "            ('high', 'low'):  'low',\n",
    "            ('average', 'high'):  'high',\n",
    "            ('average', 'average'):  'average',\n",
    "            ('average', 'low'):  'low',\n",
    "            ('none', 'high'):  'low',\n",
    "            ('none', 'average'):  'low',\n",
    "            ('none', 'low'):  'low'}\n",
    "\n",
    "# Scalar function to return expected regeneration given veg topo class and self-succession\n",
    "# I'm going to use discrete 1 through 5 coding here and through the rest of the calculations\n",
    "# we can use our fancy logistic arithmetic later if it's warranted.\n",
    "def expregen(vegtopo, selfsuccession):\n",
    "    if vegtopo not in resproutproportion:\n",
    "        return np.nan\n",
    "    if selfsuccession not in ('high', 'average', 'none'):\n",
    "        return np.nan\n",
    "    resproutp = resproutproportion[vegtopo]\n",
    "    if resproutp == None:\n",
    "        return None\n",
    "    expregenout0 = expregendict[(selfsuccession, resproutp)]\n",
    "    expregenoutdict = {None: np.nan, 'low': 1, 'average': 3, 'high': 5 }\n",
    "    expregenout = expregenoutdict[expregenout0]\n",
    "    return expregenout\n",
    "\n",
    "# Raster calculation of expected regeneration\n",
    "# This wraps the expregen function\n",
    "def expregenrast(vegrast, selfsuccession):\n",
    "    vfunc = np.vectorize(expregen) # this is key.\n",
    "    # outrast = rastervalStep1a(specname, nsgeomorphonrast2, firecountrast2, sloperast2)\n",
    "    #outrast = vfunc(specname, firecountrastx,cwdrastx)\n",
    "    #outrast = rastervalStep1aB(specname, firecountrastx, cwdrastx)\n",
    "    outrast = xr.apply_ufunc(vfunc,vegrast, selfsuccession)\n",
    "    outrast.attrs = vegrast.attrs\n",
    "    return outrast\n",
    "    \n",
    "    \n",
    "# Modify expected regeneration by fire count and time since last fire, scalar version\n",
    "def regenfire(expregen, firecount, timelastfire, vegtopo):\n",
    "    if vegtopo not in resproutproportion:\n",
    "        return np.nan\n",
    "    else:\n",
    "        resproutp = resproutproportion[vegtopo]\n",
    "    if expregen is None or firecount is None or timelastfire is None:\n",
    "        return np.nan\n",
    "    if firecount > 3:\n",
    "        expregen2 = expregen - 2\n",
    "    elif firecount == 3:\n",
    "        expregen2 = expregen - 1\n",
    "    else:\n",
    "        expregen2 = expregen\n",
    "    if (resproutp == 'average' or resproutp == 'low'): # table 3 stuff\n",
    "        if timelastfire <= 5:\n",
    "            expregen2 -= 2\n",
    "        elif timelastfire > 5 and timelastfire <= 10:\n",
    "            expregen2 -= 1\n",
    "    if expregen2 == 0:\n",
    "        expregen2 = 1\n",
    "    return expregen2\n",
    "\n",
    "# Raster calculation of expected regeneration by fire history\n",
    "# This wraps the regenfire function\n",
    "def regenfirerast(expregenrast, firecountrast, timelastfirerast, vegtopo):\n",
    "    vfunc = np.vectorize(regenfire) # this is key.\n",
    "    # outrast = rastervalStep1a(specname, nsgeomorphonrast2, firecountrast2, sloperast2)\n",
    "    #outrast = vfunc(specname, firecountrastx,cwdrastx)\n",
    "    #outrast = rastervalStep1aB(specname, firecountrastx, cwdrastx)\n",
    "    outrast = xr.apply_ufunc(vfunc,expregenrast, firecountrast, timelastfirerast, vegtopo)\n",
    "    outrast.attrs = firecountrast.attrs\n",
    "    return outrast\n",
    "\n",
    "prefiredrought = True\n",
    "\n",
    "# This array is in order [year 1, year 2, year 3, year 4]\n",
    "\n",
    "postfiredrought = (True, True, True, False)\n",
    "\n",
    "# postfiredrought = ('Moderate', 'Moderate', 'Moderate')\n",
    "\n",
    "# Encode the postfire drought combinations into a dictionary\n",
    "# hang on to this until the 3-year version works\n",
    "postfiredroughtdict = {(True, True, True, True) : -2,\n",
    "                       (True, True, True, False) : -2,\n",
    "                       (True, True, False, False) : -1,\n",
    "                       (True, False, False, False) : -1,\n",
    "                       (True, False, True, True) : -1,\n",
    "                       (True, False, False, True) : -1,\n",
    "                       (True, False, True, False) : -1,\n",
    "                       (True, False, True, False) : -1,\n",
    "                       (False, True, True, True) : 0,\n",
    "                       (False, True, True, False) : 0,\n",
    "                       (False, True, False, False) : 0,\n",
    "                       (False, False, False, False) : 0,\n",
    "                       (False, False, True, True) : 0,\n",
    "                       (False, False, False, True) : 0,\n",
    "                       (False, False, True, False) : 0,\n",
    "                       (False, True, False, True) : 0}\n",
    "\n",
    "\n",
    "\n",
    "# return a list with the class changes due to postfire drought\n",
    "# Not applicablee anymore\n",
    "# def postfiredroughtcalc(postfireyears):\n",
    "#    postfiredroughtval = [0, 0, 0]\n",
    "#    if postfireyears[0] == 'Moderate':\n",
    "#        postfiredroughtval[0] = -1\n",
    "#    if postfireyears[0] in ('Severe', 'Extreme'):\n",
    "#        postfiredroughtval[0] = -2\n",
    "#    if postfireyears[1] in ('Severe', 'Extreme'):\n",
    "#        postfiredroughtval[1] = -1\n",
    "#    if postfireyears[2] in ('Severe', 'Extreme'):\n",
    "#        postfiredroughtval[1] = -2\n",
    "#    return postfiredroughtval\n",
    "\n",
    "\n",
    "\n",
    "# Scalar function to take pre and postfire drought conditions and alter regeneration response\n",
    "# I'm doing the lookup here by the vegtopo class which isn't ideal but whatever\n",
    "def droughtmodify(expregen, vegtopo, prefiredrought, postfirewater):\n",
    "    if vegtopo not in resproutproportion:\n",
    "        return np.nan\n",
    "    else:\n",
    "        resproutp = resproutproportion[vegtopo]\n",
    "    if resproutp == np.nan:\n",
    "        return np.nan\n",
    "    expregenout = expregen\n",
    "    if prefiredrought and (resproutp == 'high'):\n",
    "        expregenout = expregen - 1\n",
    "        if expregenout < 1:\n",
    "            expregenout = 1\n",
    "    if (resproutp == 'average' or resproutp == 'low'):\n",
    "        expregenout = expregen + postfirewater\n",
    "        if expregenout < 1:\n",
    "            expregenout = 1\n",
    "    \n",
    "    return expregenout\n",
    "\n",
    "# Scalar function to take pre and postfire drought conditions and alter regeneration response\n",
    "# I'm doing the lookup here by the vegtopo class which isn't ideal but whatever\n",
    "def droughtmodify2(expregen, vegtopo, prefiredrought, postfireyear1drought, postfireyear2drought, postfireyear3drought, fireseason,numpostfireyears):\n",
    "    if vegtopo not in resproutproportion:\n",
    "        return np.nan\n",
    "    else:\n",
    "        resproutp = resproutproportion[vegtopo]\n",
    "    if resproutp == np.nan:\n",
    "        return np.nan\n",
    "    expregenout = expregen\n",
    "    if prefiredrought and (resproutp == 'high'):\n",
    "        expregenout = expregen - 1\n",
    "        if expregenout < 1:\n",
    "            expregenout = 1  # this bit is still good.\n",
    "    # restructure the postfire stuff, make it a complicated if-then thing\n",
    "    postfirediff = 0\n",
    "    if resproutp == 'high':\n",
    "        if postfireyear1drought:\n",
    "            postfirediff -= 2\n",
    "        if numpostfireyears >= 2:\n",
    "            if postfireyear2drought:\n",
    "                postfirediff -= 1\n",
    "        if numpostfireyears == 3:\n",
    "            if postfireyear3drought:\n",
    "                postfirediff -= 1\n",
    "        expregenout = expregen + postfirediff               \n",
    "    else: # resproutp is average or low\n",
    "        if postfireyear1drought:\n",
    "            postfirediff -= 1\n",
    "        if numpostfireyears >= 2:\n",
    "            if postfireyear2drought:\n",
    "                postfirediff -= 0.5\n",
    "        if numpostfireyears == 3:\n",
    "            if postfireyear3drought:\n",
    "                postfirediff -= 0.5\n",
    "        if fireseason == 'dry':  # adjust if a seeder and fire occurs in springtime\n",
    "            postfirediff -= 1 \n",
    "    try:\n",
    "        expregenout = int(expregen + postfirediff)\n",
    "    except ValueError:\n",
    "        return np.nan\n",
    "    if expregenout < 1:\n",
    "        expregenout = 1\n",
    "    return expregenout\n",
    "    \n",
    "        \n",
    "# Wrapper for droughtmodify \n",
    "def droughtmodifyrast(expregenrast, vegtoporast, prefiredrought, postfiredrought):\n",
    "    postfirewater = postfiredroughtdict[postfiredrought] # this needs to be a scalar, not a tuple, else it won't broadcast\n",
    "    vfunc = np.vectorize(droughtmodify) # this is key.\n",
    "    outrast = xr.apply_ufunc(vfunc,expregenrast, vegtoporast, prefiredrought, postfirewater)\n",
    "    outrast.attrs = vegtoporast.attrs\n",
    "    return outrast \n",
    "\n",
    "def droughtmodifyrast2(expregenrast, vegtoporast, prefiredrought, postyear1drought, postyear2drought, postyear3drought, fireseason, numpostfireyears):\n",
    "    # postfirewater = postfiredroughtdict[postfiredrought] # this needs to be a scalar, not a tuple, else it won't broadcast\n",
    "    vfunc = np.vectorize(droughtmodify2) # this is key.\n",
    "    outrast = xr.apply_ufunc(vfunc,expregenrast, vegtoporast, prefiredrought, postyear1drought, postyear2drought, postyear3drought, fireseason, numpostfireyears)\n",
    "    outrast.attrs = vegtoporast.attrs\n",
    "    return outrast \n",
    "\n",
    "# Scalar function to take invasives/herbaceous cover and alter regeneration response\n",
    "def invasivesmodify(expregen, vegtopo, herbfraction, invasivethreshold):\n",
    "    if herbfraction >= invasivethreshold:\n",
    "        herblevel = 'high'\n",
    "    else:\n",
    "        herblevel = 'low'        \n",
    "    if vegtopo not in resproutproportion:\n",
    "        return np.nan\n",
    "    else:\n",
    "        resproutp = resproutproportion[vegtopo]\n",
    "    if resproutp == np.nan:\n",
    "        return np.nan\n",
    "    expregenout = expregen + invasivedict[(resproutp, herblevel)]\n",
    "    if expregenout < 1:\n",
    "        expregenout = 1\n",
    "    return expregenout\n",
    "\n",
    "# Wrapper for droughtmodify \n",
    "def invasivesmodifyrast(expregenrast, vegtoporast, herbfraction, invasivethreshold):\n",
    "    vfunc = np.vectorize(invasivesmodify) # this is key.\n",
    "    outrast = xr.apply_ufunc(vfunc,expregenrast, vegtoporast, herbfraction, invasivethreshold)\n",
    "    outrast.attrs = vegtoporast.attrs\n",
    "    # print(\"Non-native threshold is \", invasivethreshold)\n",
    "    return outrast  \n",
    "\n",
    "# Reclassify the erosion data\n",
    "\n",
    "# I seem to need to vectorize things again\n",
    "def erosionclass(tonsperha):\n",
    "    if tonsperha > 100:\n",
    "        erosionarrclass= 4\n",
    "    elif tonsperha > 50 and tonsperha <= 100:\n",
    "        erosionarrclass = 3\n",
    "    elif tonsperha > 25 and tonsperha <= 50:\n",
    "        erosionarrclass = 2\n",
    "    elif tonsperha >= 0 and tonsperha <= 25:\n",
    "        erosionarrclass = 1\n",
    "    else:\n",
    "        erosionarrclass = np.nan\n",
    "    return erosionarrclass\n",
    "\n",
    "def erosionclassrast(erosionrast):\n",
    "    vfunc = np.vectorize(erosionclass) # this is key.\n",
    "    outrast = xr.apply_ufunc(vfunc,erosionrast)\n",
    "    outrast.attrs = erosionrast.attrs\n",
    "    return outrast \n",
    "\n",
    "def erosionvuln(expregen, erosionclass):\n",
    "    # tuples are (regeneration, potential erosion)\n",
    "    erosionvulndict = {(5,1): 1, (5,2): 2, (5,3): 3, (5,4): 3,\n",
    "                      (4,1): 1, (4,2): 2, (4,3): 3, (4,4): 3,\n",
    "                      (3,1): 2, (3,2): 2, (3,3): 3, (3,4): 4,\n",
    "                      (2,1): 2, (2,2): 2, (2,3): 3, (2,4): 4,\n",
    "                      (1,1): 3, (1,2): 3, (1,3): 4, (1,4): 4}\n",
    "    if (expregen, erosionclass) in erosionvulndict:\n",
    "        return erosionvulndict[(expregen, erosionclass)]\n",
    "    else:\n",
    "        return np.nan\n",
    "    \n",
    "def erosionvulnrast(expregenrast, erosionclassrast):\n",
    "    vfunc = np.vectorize(erosionvuln) # this is key.\n",
    "    outrast = xr.apply_ufunc(vfunc, expregenrast, erosionclassrast)\n",
    "    outrast.attrs = expregenrast.attrs\n",
    "    return outrast "
   ]
  },
  {
   "cell_type": "code",
   "execution_count": 6,
   "metadata": {
    "scrolled": true
   },
   "outputs": [],
   "source": [
    "landscapewhrtoporast = 'datasets/Landscape_WHR_topo.tif'\n",
    "landscapewhrrast = 'datasets/Landscape_WHR.tif'\n",
    "firecountrast = 'datasets/Firecount.tif'\n",
    "nonnativerast = 'datasets/Herbaceous.tif'\n",
    "#erosionrast = 'datasets/sedexportcopper2002fire.tif'\n",
    "erosionrast = 'datasets/Erosion.tif'\n",
    "timesincefirerast = 'datasets/TimeSinceFire.tif'\n",
    "\n",
    "\n",
    "\n",
    "upS1 ={'description_width': '150px'}\n",
    "#drstyle2 = widgets.widget_description.DescriptionStyle(value='font-size:1em; font-weight:bold;')\n",
    "upS2 = 'style=\"font-size: 1.5em; font-weight: bold\"'\n",
    "upS3 = 'style=\"font-style: italic; color: #4057A9; font-size: 1.1em; line-height: 100%\"'\n",
    "upS4 = 'style=\"font-size: 1.1em; font-weight: normal; line-height: 100%\"'\n",
    "upS5 ={'description_width': '250px'}\n",
    "upS6 ={'description_width': '200px'}\n",
    "\n",
    "upwgt_t1 = widgets.HTML(value=f\"<div {upS2}> Select input rasters</div>\")\n",
    "upwgt_t2 = widgets.HTML(value=f\"<div {upS3}> Rasters must be coregistered geotiffs all having the same resolution</div>\")\n",
    "upwgt_t3 = widgets.HTML(value=f\"<div {upS4}> Landscape class raster</div>\")\n",
    "upwgt_t4 = widgets.HTML(value=f\"<div {upS4}> Fire count raster</div>\")\n",
    "upwgt_t5 = widgets.HTML(value=f\"<div {upS4}> Non-native species raster</div>\")\n",
    "upwgt_t6 = widgets.HTML(value=f\"<div {upS4}> Erosion raster</div>\")\n",
    "\n",
    "\n",
    "uploadwgt1 = SelectFilesButton()\n",
    "uploadwgt2 = SelectFilesButton()\n",
    "uploadwgt3 = SelectFilesButton()\n",
    "uploadwgt4 = SelectFilesButton()\n",
    "\n",
    "uploadwgtbox = widgets.GridBox(children=[upwgt_t1, upwgt_t2, \n",
    "                                         upwgt_t3, uploadwgt1,\n",
    "                                         upwgt_t4, uploadwgt2,\n",
    "                                         upwgt_t5, uploadwgt3,\n",
    "                                         upwgt_t6, uploadwgt4],\n",
    "                                layout=widgets.Layout(\n",
    "                                    grid_template_rows='auto auto auto auto auto auto',\n",
    "                                    grid_template_columns='20% 30%',\n",
    "                                    grid_gap='20px 10px',\n",
    "                                    grid_template_areas='''\n",
    "                                    \". upwgt_t1\"\n",
    "                                    \". upwgt_t2\"\n",
    "                                    \"upwgt_t3 uploadwgt1\"\n",
    "                                    \"upwgt_t4 uploadwgt2\"\n",
    "                                    \"upwgt_t5 uploadwgt3\"\n",
    "                                    \"upwgt_t6 uploadwgt4\"\n",
    "                                    '''))\n",
    "# display(uploadwgtbox)\n",
    "\n",
    "def update_uploadwgt1(change1):\n",
    "    landscapewhrtoporast = change1.file2[0]\n",
    "    print(landscaperast)\n",
    "def update_uploadwgt2(change):\n",
    "    pass\n",
    "    \n",
    "def update_uploadwgt3(change):\n",
    "    pass\n",
    "\n",
    "def update_uploadwgt4(change):\n",
    "    pass\n",
    "    \n",
    "uploadwgt1.observe(update_uploadwgt1, names='file2')"
   ]
  },
  {
   "cell_type": "markdown",
   "metadata": {},
   "source": [
    "****\n",
    "# Step 1. Determine Post-fire Expected Regeneration\n",
    "\n"
   ]
  },
  {
   "cell_type": "code",
   "execution_count": 7,
   "metadata": {
    "scrolled": false
   },
   "outputs": [],
   "source": [
    "selfsuccession = 'high'"
   ]
  },
  {
   "cell_type": "code",
   "execution_count": 42,
   "metadata": {},
   "outputs": [
    {
     "data": {
      "text/html": [
       "\n",
       "\n",
       "<h2>Assign pre-fire proportion of resprouters and facultative seeders</h2>\n",
       "<ul class=\"infobox\">\n",
       "   <li>Assigning the proportion of species with resprouting and facultative seeding post-fire reproductive strategies determines the regeneration rate of each landscape unit (high, moderate, low)</li>\n",
       "<li>Landscape units are provided at two spatial scales for users to characterize: (a) the Wildlife Habitat Relationships (WHR) classification at a coarse scale and (b) an intersection of WHR and aspect and topography at a finer scale </li>\n",
       "</ul>\n"
      ],
      "text/plain": [
       "<IPython.core.display.HTML object>"
      ]
     },
     "metadata": {},
     "output_type": "display_data"
    }
   ],
   "source": [
    "%%html\n",
    "\n",
    "\n",
    "<h2>Assign pre-fire proportion of resprouters and facultative seeders</h2>\n",
    "<ul class=\"infobox\">\n",
    "   <li>Assigning the proportion of species with resprouting and facultative seeding post-fire reproductive strategies determines the regeneration rate of each landscape unit (high, moderate, low)</li>\n",
    "<li>Landscape units are provided at two spatial scales for users to characterize: (a) the Wildlife Habitat Relationships (WHR) classification at a coarse scale and (b) an intersection of WHR and aspect and topography at a finer scale </li>\n",
    "</ul>\n"
   ]
  },
  {
   "cell_type": "code",
   "execution_count": 9,
   "metadata": {
    "code_folding": [],
    "scrolled": false
   },
   "outputs": [
    {
     "data": {
      "application/vnd.jupyter.widget-view+json": {
       "model_id": "20eb68fc436f430db62abd5051032e64",
       "version_major": 2,
       "version_minor": 0
      },
      "text/plain": [
       "RadioButtons(description='Landscape units', index=1, layout=Layout(height='100px', width='50%'), options=('Use…"
      ]
     },
     "metadata": {},
     "output_type": "display_data"
    }
   ],
   "source": [
    "# create vegmap widget\n",
    "vegmapwgt = widgets.RadioButtons(\n",
    "    options = ['Use WHR veg types only', 'Use WHR veg types x aspect x topography'],\n",
    "    description = 'Landscape units',\n",
    "    value = 'Use WHR veg types x aspect x topography',\n",
    "    disabled = False,\n",
    "    layout = widgets.Layout(width='50%', height='100px'),\n",
    "    style = {'description_width': '100px'})\n",
    "display(vegmapwgt)\n",
    "    "
   ]
  },
  {
   "cell_type": "code",
   "execution_count": 10,
   "metadata": {
    "code_folding": [],
    "scrolled": true
   },
   "outputs": [
    {
     "data": {
      "image/png": "[encoded data removed]",
      "text/plain": [
       "<Figure size 1296x720 with 2 Axes>"
      ]
     },
     "metadata": {
      "needs_background": "light"
     },
     "output_type": "display_data"
    }
   ],
   "source": [
    "# Plot the vegetation x topography x aspect\n",
    "if vegmapwgt.value == 'Use WHR veg types x aspect x topography':\n",
    "    fvegarr = xr.open_rasterio(landscapewhrtoporast)\n",
    "else:\n",
    "    fvegarr = xr.open_rasterio(landscapewhrrast)    \n",
    "fvegarr2 = xr.where(fvegarr == 255, np.nan, fvegarr)\n",
    "\n",
    "fvegarr2.attrs = fvegarr.attrs # keep the geography in place\n",
    "if vegmapwgt.value == 'Use WHR veg types x aspect x topography':\n",
    "    veglabels = ['Annual grassland: south-facing slopes; summits; ridges', \n",
    "             'Annual grassland: north-facing slopes; valleys; depressions',\n",
    "             'Chamise-redshank chaparral: south-facing slopes; summits; ridges',\n",
    "             'Chamise-redshank chaparral: north-facing slopws; valleys; depressions',\n",
    "             'Mixed chaparral: south-facing slopes; summits; ridges',\n",
    "             'Mixed chaparral: north-facing slopes; valleys; depressions',\n",
    "             'Valley-foothill riparian: south-facing slopes; summits; ridges',\n",
    "             'Valley-foothill riparian: north-facing slopes; valleys; depressions',\n",
    "             'Coastal scrub: south-facing slopes; summits; ridges',\n",
    "             'Coastal scrub: north-facing slopws; valleys; depressions',\n",
    "             'Other: south-facing slopes; summits; ridges',\n",
    "             'Other: north-facing slopes; valleys; depressions']\n",
    "else:\n",
    "    veglabels = ['Other', #other\n",
    "                'Annual grassland', # annual grassland\n",
    "                'Chamise-redshank chaparral', #chamise redshank chaparral\n",
    "                'Mixed chaparral', #mixed chaparral\n",
    "                'Valley-foothill riparian', #valleyfoothillriparian\n",
    "                'Coastal scrub'] #coastal scrub\n",
    "fig, ax = plt.subplots(figsize=(18,10))\n",
    "if vegmapwgt.value == 'Use WHR veg types x aspect x topography':\n",
    "    cmap = plt.get_cmap('Spectral',12)\n",
    "    cmap.set_over(alpha=0)\n",
    "    nsgeoxWHRplot = ax.imshow(fvegarr2[0,], cmap=cmap, vmin=-0.5, vmax=11.5)\n",
    "    cbar = fig.colorbar(nsgeoxWHRplot, fraction=0.03, ticks=range(12))\n",
    "else:\n",
    "    cmap = plt.get_cmap('Spectral',6)\n",
    "    cmap.set_over(alpha=0)\n",
    "    nsgeoxWHRplot = ax.imshow(fvegarr2[0,], cmap=cmap, vmin=-0.5, vmax=5.5)\n",
    "    cbar = fig.colorbar(nsgeoxWHRplot, fraction=0.03, ticks=range(6))\n",
    "# cmap.set_over(alpha=0)\n",
    "# nsgeoxWHRplot = ax.imshow(fvegarr2[0,], cmap=cmap, vmin=-0.5, vmax=11.5)\n",
    "#cbar = fig.colorbar(nsgeoxWHRplot, fraction=0.03, ticks=range(12))\n",
    "cbar.ax.set_yticklabels(veglabels)\n",
    "autoAxis = ax.axis()\n",
    "rec = plt.Rectangle((autoAxis[0]-0.7,autoAxis[2]+20),(autoAxis[1]-autoAxis[0])+550,(autoAxis[3]-autoAxis[2])-30,fill=False,lw=2)\n",
    "rec = ax.add_patch(rec)\n",
    "rec.set_clip_on(False)\n",
    "ax.text(20,30,\"Landscape units -  Copper Fire\", fontsize=18)\n",
    "ax.set_axis_off();    \n",
    "                   \n"
   ]
  },
  {
   "cell_type": "code",
   "execution_count": 11,
   "metadata": {},
   "outputs": [],
   "source": [
    "fvegarr.to_netcdf('datasets/fvegarr0.nc')\n",
    "#WTF? I've lost the georeferencing even here? \n",
    "# well, not exactly"
   ]
  },
  {
   "cell_type": "code",
   "execution_count": 12,
   "metadata": {},
   "outputs": [
    {
     "data": {
      "text/html": [
       "<hr>\n",
       "<h3>Select the proportion of resprouters in each class</h3>\n",
       "<ul class=\"infobox\">\n",
       "   <li>Assigning the proportion of species with resprouting and facultative seeding post-fire reproductive strategies determines the regeneration rate of each landscape unit (high, moderate, low, non-assessable)</li>\n",
       "    <li>This pre-populated table of the approximate proportion of resprouters has been developed based on field guides for shrublands in southern California (Gordon and White, 1994 and Borchert et al. 2004). These classes are intended as a guideline  and field surveys are strongly encouraged to confirm and/or modify these classes for the particular fire being assessed</li>\n",
       "</ul>\n"
      ],
      "text/plain": [
       "<IPython.core.display.HTML object>"
      ]
     },
     "metadata": {},
     "output_type": "display_data"
    }
   ],
   "source": [
    "%%html\n",
    "<hr>\n",
    "<h3>Select the proportion of resprouters in each class</h3>\n",
    "<ul class=\"infobox\">\n",
    "    <li>This pre-populated table of the approximate proportion of resprouters has been developed based on field guides for shrublands in southern California (Gordon and White, 1994 and Borchert et al. 2004). These classes are intended as a guideline  and field surveys are strongly encouraged to confirm and/or modify these classes for the particular fire being assessed</li>\n",
    "</ul>"
   ]
  },
  {
   "cell_type": "code",
   "execution_count": 13,
   "metadata": {
    "code_folding": [],
    "scrolled": false
   },
   "outputs": [
    {
     "data": {
      "application/vnd.jupyter.widget-view+json": {
       "model_id": "d32f0b149aa74d28b842df9da6d24bcc",
       "version_major": 2,
       "version_minor": 0
      },
      "text/plain": [
       "VBox(children=(Dropdown(description='AGS: south-facing slopes; summits; ridges', index=2, layout=Layout(height…"
      ]
     },
     "metadata": {},
     "output_type": "display_data"
    }
   ],
   "source": [
    "# The compound widget for proportion of resprouters by veg topoclass\n",
    "vglayout = widgets.Layout(width='50%', height='30px')\n",
    "vgstyle ={'description_width': '300px', 'font-size': '1.1em'}\n",
    "vegoptionslist = [('40-100%', 'high'), ('10-40%', 'average'), ('0-10%', 'low'), ('N/A', 'na')]\n",
    "if vegmapwgt.value == 'Use WHR veg types x aspect x topography':\n",
    "    vegwgt0 = widgets.Dropdown(options=vegoptionslist, style=vgstyle, layout=vglayout, value='low', description='AGS: south-facing slopes; summits; ridges')\n",
    "    vegwgt1 = widgets.Dropdown(options=vegoptionslist, style=vgstyle, layout=vglayout, value='low', description='AGS: north-facing slopes; valleys; depressions')\n",
    "    vegwgt2 = widgets.Dropdown(options=vegoptionslist, style=vgstyle, layout=vglayout, value='average', description='CRC: south-facing slopes; summits; ridges')\n",
    "    vegwgt3 = widgets.Dropdown(options=vegoptionslist, style=vgstyle, layout=vglayout, value='average', description='CRC: north-facing slopes; valleys; depressions')\n",
    "    vegwgt4 = widgets.Dropdown(options=vegoptionslist, style=vgstyle, layout=vglayout, value='high', description='MCH: south-facing slopes; summits; ridges')\n",
    "    vegwgt5 = widgets.Dropdown(options=vegoptionslist, style=vgstyle, layout=vglayout, value='high', description='MCH: north-facing slopes; valleys; depressions')\n",
    "    vegwgt6 = widgets.Dropdown(options=vegoptionslist, style=vgstyle, layout=vglayout, value='na', description='VRI: south-facing slopes; summits; ridges')\n",
    "    vegwgt7 = widgets.Dropdown(options=vegoptionslist, style=vgstyle, layout=vglayout, value='na', description='VRI: north-facing slopes; valleys; depressions')\n",
    "    vegwgt8 = widgets.Dropdown(options=vegoptionslist, style=vgstyle, layout=vglayout, value='high', description='CSC: south-facing slopes; summits; ridges')\n",
    "    vegwgt9 = widgets.Dropdown(options=vegoptionslist, style=vgstyle, layout=vglayout, value='high', description='CSC: north-facing slopes; valleys; depressions')\n",
    "    vegwgt10 = widgets.Dropdown(options=vegoptionslist, style=vgstyle, layout=vglayout, value='na', description='Other: north-facing slopes; valleys; depressions')\n",
    "    vegwgt11 = widgets.Dropdown(options=vegoptionslist, style=vgstyle, layout=vglayout, value='na', description='Other: south-facing slopes; summits; ridges')\n",
    "    vegwgtlist = [ vegwgt0, vegwgt1, vegwgt2,vegwgt3, vegwgt4, vegwgt5, vegwgt6, vegwgt7, vegwgt8, vegwgt9, vegwgt10, vegwgt11]\n",
    "else:\n",
    "    vegwgt0 = widgets.Dropdown(options=vegoptionslist, style=vgstyle, layout=vglayout, value='low', description='Annual grassland (AGS)')\n",
    "    vegwgt2 = widgets.Dropdown(options=vegoptionslist, style=vgstyle, layout=vglayout, value='average', description='Chamise-redshanks chaparral (CRC)')\n",
    "    vegwgt4 = widgets.Dropdown(options=vegoptionslist, style=vgstyle, layout=vglayout, value='high', description='Mixed chaparral (MCH)')\n",
    "    vegwgt6 = widgets.Dropdown(options=vegoptionslist, style=vgstyle, layout=vglayout, value='na', description='Valley-riparian woodland (VRI)')\n",
    "    vegwgt8 = widgets.Dropdown(options=vegoptionslist, style=vgstyle, layout=vglayout, value='high', description='Coastal sage scrub (CSC)')\n",
    "    vegwgt10 = widgets.Dropdown(options=vegoptionslist, style=vgstyle, layout=vglayout, value='na', description='Other')\n",
    "    vegwgtlist = [ vegwgt0, vegwgt2,vegwgt4, vegwgt6, vegwgt8, vegwgt10]\n",
    " \n",
    "\n",
    "vegwgtcombo = widgets.VBox(vegwgtlist)\n",
    "#def resproutproportionwgt(wgtlist)\n",
    "display(vegwgtcombo)\n"
   ]
  },
  {
   "cell_type": "code",
   "execution_count": 14,
   "metadata": {
    "code_folding": [],
    "scrolled": false
   },
   "outputs": [],
   "source": [
    "# We will create a dictionary in lieu for now of building a widget for the proportion of resprouters and facultative seeders\n",
    "# for each veg topo class\n",
    "# resproutproportion = {4 : 'high',   # Mixed chaparral: south-facing slopes; summits; ridges\n",
    "#                      5: 'high',   # Mixed chaparral: north-facing slopws; valleys; depressions\n",
    "#                      2 : 'average', # Chamise-redshank chaparral: south-facing slopes; summits; ridges\n",
    "#                      3 : 'average', # Chamise-redshank chaparral: north-facing slopws; valleys; depressions\n",
    "#                      8 : 'average', # Coastal scrub: south-facing slopes; summits; ridges\n",
    "#                      9 : 'average',    # Coastal scrub: north-facing slopws; valleys; depressions\n",
    "#                      6 : 'low',    # Valley-foothill riparian: south-facing slopes; summits; ridges\n",
    "#                      7 : None,     # Valley-foothill riparian: north-facing slopws; valleys; depressions\n",
    "#                      0 : None,     # Annual grassland: south-facing slopes; summits; ridges\n",
    "#                      1 : 'low',    # Annual grassland: north-facing slopws; valleys; depressions\n",
    "#                     10: 'low',    # Other: south-facing slopes; summits; ridges\n",
    "#                      11: None}     # Other: north-facing slopws; valleys; depressions\n",
    "\n",
    "def nanone(s):\n",
    "    if (s == 'na'):\n",
    "        return None\n",
    "    else:\n",
    "        return s\n",
    "if vegmapwgt.value == 'Use WHR veg types x aspect x topography':\n",
    "    resproutproportion = {4 : nanone(vegwgt4.value),   # Mixed chaparral: south-facing slopes; summits; ridges\n",
    "                     5: nanone(vegwgt5.value),   # Mixed chaparral: north-facing slopws; valleys; depressions\n",
    "                      2 : nanone(vegwgt2.value), # Chamise-redshank chaparral: south-facing slopes; summits; ridges\n",
    "                      3 : nanone(vegwgt3.value), # Chamise-redshank chaparral: north-facing slopws; valleys; depressions\n",
    "                      8 : nanone(vegwgt8.value), # Coastal scrub: south-facing slopes; summits; ridges\n",
    "                      9 : nanone(vegwgt9.value),    # Coastal scrub: north-facing slopws; valleys; depressions\n",
    "                      6 : nanone(vegwgt6.value),    # Valley-foothill riparian: south-facing slopes; summits; ridges\n",
    "                      7 : nanone(vegwgt7.value),     # Valley-foothill riparian: north-facing slopws; valleys; depressions\n",
    "                      0 : nanone(vegwgt0.value),     # Annual grassland: south-facing slopes; summits; ridges\n",
    "                      1 : nanone(vegwgt1.value),    # Annual grassland: north-facing slopws; valleys; depressions\n",
    "                     10: nanone(vegwgt10.value),    # Other: south-facing slopes; summits; ridges\n",
    "                      11:nanone(vegwgt11.value)}     # Other: north-facing slopes; valleys; depressions\n",
    "else:\n",
    "    resproutproportion = {1 : nanone(vegwgt0.value),  \n",
    "                          2: nanone(vegwgt2.value),\n",
    "                          3: nanone(vegwgt4.value),\n",
    "                          4: nanone(vegwgt6.value),\n",
    "                          5: nanone(vegwgt8.value),\n",
    "                          6: nanone(vegwgt10.value)}\n",
    "\n",
    "def update_rp0(change):\n",
    "    resproutproportion[0] = nanone(change.new)\n",
    "def update_rp1(change):\n",
    "    resproutproportion[1] = nanone(change.new)\n",
    "def update_rp2(change):\n",
    "    resproutproportion[2] = nanone(change.new)\n",
    "def update_rp3(change):\n",
    "    resproutproportion[3] = nanone(change.new)\n",
    "def update_rp4(change):\n",
    "    resproutproportion[4] = nanone(change.new)\n",
    "def update_rp5(change):\n",
    "    resproutproportion[5] = nanone(change.new)\n",
    "def update_rp6(change):\n",
    "    resproutproportion[6] = nanone(change.new)\n",
    "def update_rp7(change):\n",
    "    resproutproportion[7] = nanone(change.new)\n",
    "def update_rp8(change):\n",
    "    resproutproportion[8] = nanone(change.new)\n",
    "def update_rp9(change):\n",
    "    resproutproportion[9] = nanone(change.new)\n",
    "def update_rp10(change):\n",
    "    resproutproportion[10] = nanone(change.new)\n",
    "def update_rp11(change):\n",
    "    resproutproportion[11] = nanone(change.new)\n",
    "\n",
    "if vegmapwgt.value == 'Use WHR veg types x aspect x topography':\n",
    "    vegwgt0.observe(update_rp0, names='value')\n",
    "    vegwgt1.observe(update_rp1, names='value')\n",
    "    vegwgt2.observe(update_rp2, names='value')\n",
    "    vegwgt3.observe(update_rp3, names='value')\n",
    "    vegwgt4.observe(update_rp4, names='value')\n",
    "    vegwgt5.observe(update_rp5, names='value')\n",
    "    vegwgt6.observe(update_rp6, names='value')\n",
    "    vegwgt7.observe(update_rp7, names='value')\n",
    "    vegwgt8.observe(update_rp8, names='value')\n",
    "    vegwgt9.observe(update_rp9, names='value')\n",
    "    vegwgt10.observe(update_rp10, names='value')\n",
    "    vegwgt11.observe(update_rp11, names='value')\n",
    "else:\n",
    "    vegwgt0.observe(update_rp0, names='value')\n",
    "    vegwgt2.observe(update_rp2, names='value')\n",
    "    vegwgt4.observe(update_rp4, names='value')\n",
    "    vegwgt6.observe(update_rp6, names='value')\n",
    "    vegwgt8.observe(update_rp8, names='value')\n",
    "    vegwgt10.observe(update_rp10, names='value')\n"
   ]
  },
  {
   "cell_type": "markdown",
   "metadata": {},
   "source": [
    "<p>Table 1. Assignment of scores based on regeneration rate determined based on the relative proportion of resprouting and facultative seeding post-fire reproductive strategies: R = resprouter species, FS = facultative seeder species</p>\n",
    "\n",
    "\n",
    "![Table 1](images/Table1c.png)"
   ]
  },
  {
   "cell_type": "code",
   "execution_count": 16,
   "metadata": {
    "code_folding": [],
    "scrolled": false
   },
   "outputs": [
    {
     "data": {
      "application/vnd.jupyter.widget-view+json": {
       "model_id": "aa58760c601b42a887d52a2a3ca38a60",
       "version_major": 2,
       "version_minor": 0
      },
      "text/plain": [
       "Output()"
      ]
     },
     "metadata": {},
     "output_type": "display_data"
    },
    {
     "data": {
      "image/png": "[encoded data removed]",
      "text/plain": [
       "<Figure size 1080x576 with 2 Axes>"
      ]
     },
     "metadata": {
      "needs_background": "light"
     },
     "output_type": "display_data"
    }
   ],
   "source": [
    "# Plot expected regeneration\n",
    "regenrast = expregenrast(fvegarr2, selfsuccession)\n",
    "\n",
    "\n",
    "\n",
    "# def run_current1(ev):\n",
    "#    display(Javascript('IPython.notebook.execute_selected_cells()'))\n",
    "\n",
    "\n",
    "\n",
    "\n",
    "\n",
    "outputmap1 = widgets.Output()\n",
    "with outputmap1:\n",
    "    fig, ax = plt.subplots(figsize=(15,8))\n",
    "    cmap = redorangegreencm\n",
    "    cmap.set_over(alpha=0)\n",
    "    regenrastplot = ax.imshow(regenrast[0,], cmap=cmap, vmin=0.5, vmax=5.5)\n",
    "    cbar = fig.colorbar(regenrastplot, fraction=0.023, ticks=range(1,6))\n",
    "    cbar.ax.set_yticklabels(invroglabels)\n",
    "    ax.text(20, 80,\"\"\"OUTPUT MAP 1: Expected regeneration based on proportion of sprouters\\n and facultative seeders in landscape unit\"\"\", fontsize=14)\n",
    "    ax.set_axis_off();\n",
    "    autoAxis = ax.axis()\n",
    "    rec = plt.Rectangle((autoAxis[0]-0.7,autoAxis[2]+25),(autoAxis[1]-autoAxis[0])+230,(autoAxis[3]-autoAxis[2])+0.4,fill=False,lw=2)\n",
    "    rec = ax.add_patch(rec)\n",
    "    rec.set_clip_on(False)\n",
    "\n",
    "#outputmap1box = widgets.GridBox(children=[outputmap1, runcurrent1_button, downloadwgt1],\n",
    "#                               layout =widgets.Layout(\n",
    "#                                  grid_template_rows='auto 40px',\n",
    "#                                  grid_template_columns='20% auto',\n",
    "#                                  grid_template_areas='''\n",
    "#                                  \"outputmap1 .\"\n",
    "#                                  \"runcurrent1_button downloadwgt1\"\n",
    "#                                  '''))\n",
    "display(outputmap1)\n",
    "\n",
    "\n",
    "\n"
   ]
  },
  {
   "cell_type": "code",
   "execution_count": 17,
   "metadata": {},
   "outputs": [
    {
     "data": {
      "application/vnd.jupyter.widget-view+json": {
       "model_id": "dff07391e498444e94f112b1740c886c",
       "version_major": 2,
       "version_minor": 0
      },
      "text/plain": [
       "SaveFileButton(description='Download output data', style=ButtonStyle(button_color='#D4D4D4'))"
      ]
     },
     "metadata": {},
     "output_type": "display_data"
    }
   ],
   "source": [
    "downloadwgt1 = SaveFileButton(regenrast)\n",
    "display(downloadwgt1)"
   ]
  },
  {
   "cell_type": "code",
   "execution_count": 18,
   "metadata": {},
   "outputs": [],
   "source": [
    "regenrast.to_netcdf('datasets/regenrastTest.nc')"
   ]
  },
  {
   "cell_type": "code",
   "execution_count": 48,
   "metadata": {},
   "outputs": [
    {
     "data": {
      "text/html": [
       "<hr>\n",
       "<h1>Step 2. Modify Expected Regeneration Based on Fire History</h1>\n",
       "<h2>Task A. Specify number of fires in previous 40 years</h2>\n",
       "\n",
       "<ul class=\"infobox\">\n",
       "    <li>Fire frequency is a key determinant on how well shrubland species recover post-fire.  </li>\n",
       "    <li>Here we use a threshold of three or more fires in any given pixel in the 40 years prior to the fire date to indicate when species regeneration will be adversely effected. </li>\n",
       "    <li>For running the tool on fires after 2018, this attribute appears in the FRID spatial dataset (see technical guide). These data need to be copied to the directory labeled 'datasets'.</li>\n",
       "    </ul>\n"
      ],
      "text/plain": [
       "<IPython.core.display.HTML object>"
      ]
     },
     "metadata": {},
     "output_type": "display_data"
    }
   ],
   "source": [
    "%%html\n",
    "<hr>\n",
    "<h1>Step 2. Modify Expected Regeneration Based on Fire History</h1>\n",
    "<h2>Task A. Specify number of fires in previous 40 years</h2>\n",
    "\n",
    "<ul class=\"infobox\">\n",
    "    <li>Fire frequency is a key determinant on how well shrubland species recover post-fire.  </li>\n",
    "    <li>Here we use a threshold of three or more fires in any given pixel in the 40 years prior to the fire date to indicate when species regeneration will be adversely effected. </li>\n",
    "    <li>For running the tool on fires after 2018, this attribute appears in the FRID spatial dataset (see technical guide). These data need to be copied to the directory labeled 'datasets'.</li>\n",
    "    </ul>\n"
   ]
  },
  {
   "cell_type": "code",
   "execution_count": 20,
   "metadata": {
    "code_folding": [],
    "scrolled": false
   },
   "outputs": [
    {
     "data": {
      "image/png": "[encoded data removed]",
      "text/plain": [
       "<Figure size 1080x576 with 2 Axes>"
      ]
     },
     "metadata": {
      "needs_background": "light"
     },
     "output_type": "display_data"
    }
   ],
   "source": [
    "# plot of fire count\n",
    "fcxarr = xr.open_rasterio(firecountrast)\n",
    "fcxarr2 = xr.where(fcxarr == 255, np.nan, fcxarr)\n",
    "fcxarr2.attrs = fcxarr.attrs\n",
    "fig, ax = plt.subplots(figsize=(15,8))\n",
    "cmap = plt.get_cmap('Spectral', 4)\n",
    "cmap.set_over(alpha=0)\n",
    "firecountplot = ax.imshow(fcxarr2[0,], cmap=cmap, vmin=-0.5, vmax=3.5)\n",
    "cbar = fig.colorbar(firecountplot, fraction=0.02, ticks=range(4))\n",
    "\n",
    "autoAxis = ax.axis()\n",
    "rec = plt.Rectangle((autoAxis[0]-0.7,autoAxis[2]-0.2),(autoAxis[1]-autoAxis[0])+240,(autoAxis[3]-autoAxis[2])+0.4,fill=False,lw=2)\n",
    "rec = ax.add_patch(rec)\n",
    "rec.set_clip_on(False)\n",
    "\n",
    "# cbar.ax.set_yticklabels(veglabels)\n",
    "# ax.set(title=\"Count of number of fires in previous 40 years\")\n",
    "ax.text(20,30, \"Count of fires in previous 40 years\",  fontsize=18)\n",
    "ax.set_axis_off();"
   ]
  },
  {
   "cell_type": "code",
   "execution_count": 21,
   "metadata": {},
   "outputs": [],
   "source": [
    "# maybe plot this as well?\n",
    "tsfarr = xr.open_rasterio(timesincefirerast)\n",
    "tsfarr2 = xr.where(tsfarr == 255, np.nan, fcxarr)\n",
    "tsfarr2.attrs = tsfarr.attrs"
   ]
  },
  {
   "cell_type": "markdown",
   "metadata": {
    "scrolled": true
   },
   "source": [
    "<p>Table 2. Modification of regeneration rate score based on number of fires in last 40 years in each pixel</p>\n",
    "\n",
    "![Table 2](images/Table2c.png)"
   ]
  },
  {
   "cell_type": "code",
   "execution_count": 49,
   "metadata": {},
   "outputs": [
    {
     "data": {
      "text/html": [
       "<h2>Task B. Specify time since last fire</h2>\n",
       "\n",
       "<ul class=\"infobox\">\n",
       "    <li>Time since last fire (TSLF) in combination with the proportion of resprouters is important to consider as many obligate seeders are particularly susceptible as they regenerate entirely from long-lived, fire-cued seed banks that require one to two decades to replenish</li>\n",
       "    <li>The tool uses the TSLF attribute in the FRID dataset and uses thresholds of 0-5 years, 5-10 years, and &gt;10 years since fire </li>\n",
       "    <li>Pixel scores are only modified where they have low regeneration rates, characterized by &le;10% resprouters or facultative seeders (i.e., 10-90% obligate seeders) </li>\n",
       "    </ul>\n"
      ],
      "text/plain": [
       "<IPython.core.display.HTML object>"
      ]
     },
     "metadata": {},
     "output_type": "display_data"
    }
   ],
   "source": [
    "%%html\n",
    "<h2>Task B. Specify time since last fire</h2>\n",
    "\n",
    "<ul class=\"infobox\">\n",
    "    <li>Time since last fire (TSLF) in combination with the proportion of resprouters is important to consider as many obligate seeders are particularly susceptible as they regenerate entirely from long-lived, fire-cued seed banks that require one to two decades to replenish</li>\n",
    "    <li>The tool uses the TSLF attribute in the FRID dataset and uses thresholds of 0-5 years, 5-10 years, and &gt;10 years since fire </li>\n",
    "    <li>Pixel scores are only modified where they have low regeneration rates, characterized by &le;10% resprouters or facultative seeders (i.e., 10-90% obligate seeders) </li>\n",
    "    </ul>\n"
   ]
  },
  {
   "cell_type": "markdown",
   "metadata": {},
   "source": [
    "<p>Table 3. Modification of regeneration rate score based on time since last fire. This modification is only applied to pixels with low regeneration rates (&lt;10% resprouters or facultative seeders, i.e., 10-90% obligate seeders)</p>\n",
    "\n",
    "![Table 3](images/Table3c.png)\n"
   ]
  },
  {
   "cell_type": "code",
   "execution_count": 23,
   "metadata": {
    "code_folding": [],
    "scrolled": false
   },
   "outputs": [
    {
     "data": {
      "image/png": "[encoded data removed]",
      "text/plain": [
       "<Figure size 1296x720 with 2 Axes>"
      ]
     },
     "metadata": {
      "needs_background": "light"
     },
     "output_type": "display_data"
    }
   ],
   "source": [
    "# plot expected regeneration modified by fire history\n",
    "\n",
    "regenfireout = regenfirerast(regenrast, fcxarr2, tsfarr2, fvegarr2)\n",
    "fig, ax = plt.subplots(figsize=(18,10))\n",
    "cmap = redorangegreencm\n",
    "cmap.set_over(alpha=0)\n",
    "regenfireplot = ax.imshow(regenfireout[0,], cmap=cmap, vmin=0.5, vmax=5.5)\n",
    "cbar = fig.colorbar(regenfireplot, fraction=0.03, ticks=range(1,6))\n",
    "cbar.ax.set_yticklabels(invroglabels)\n",
    "autoAxis = ax.axis()\n",
    "rec = plt.Rectangle((autoAxis[0]-0.7,autoAxis[2]+ 15),(autoAxis[1]-autoAxis[0])+240,(autoAxis[3]-autoAxis[2])-50,fill=False,lw=2)\n",
    "rec = ax.add_patch(rec)\n",
    "rec.set_clip_on(False)\n",
    "ax.text(20,30, \"OUTPUT MAP 2: Expected regeneration modified by fire history\", fontsize=18)\n",
    "\n",
    "#ax.set(title=\"OUTPUT MAP 2: Expected regeneration modified by fire history\")\n",
    "ax.set_axis_off();\n",
    "\n"
   ]
  },
  {
   "cell_type": "code",
   "execution_count": 24,
   "metadata": {
    "code_folding": [],
    "scrolled": false
   },
   "outputs": [
    {
     "data": {
      "application/vnd.jupyter.widget-view+json": {
       "model_id": "0a5998505dbc43c9924cb20a8d918616",
       "version_major": 2,
       "version_minor": 0
      },
      "text/plain": [
       "SaveFileButton(description='Download output data', style=ButtonStyle(button_color='#D4D4D4'))"
      ]
     },
     "metadata": {},
     "output_type": "display_data"
    }
   ],
   "source": [
    "# download output data\n",
    "downloadwgt2 = SaveFileButton(regenfireout)\n",
    "display(downloadwgt2)"
   ]
  },
  {
   "cell_type": "markdown",
   "metadata": {},
   "source": [
    "*********\n",
    "# Step 3. Modify Regeneration Based on Drought\n",
    "\n"
   ]
  },
  {
   "cell_type": "code",
   "execution_count": 25,
   "metadata": {
    "code_folding": [],
    "scrolled": false
   },
   "outputs": [
    {
     "data": {
      "application/vnd.jupyter.widget-view+json": {
       "model_id": "aed85ec1b41b4db98807449365d5242c",
       "version_major": 2,
       "version_minor": 0
      },
      "text/plain": [
       "GridBox(children=(HTML(value='<div style=\"font-size: 1.5em; font-weight: bold\"> Task A. Specify drought or non…"
      ]
     },
     "metadata": {},
     "output_type": "display_data"
    }
   ],
   "source": [
    "# drought modification widget\n",
    "drS1 ={'description_width': '250px'}\n",
    "#drstyle2 = widgets.widget_description.DescriptionStyle(value='font-size:1em; font-weight:bold;')\n",
    "drS2 = 'style=\"font-size: 1.5em; font-weight: bold\"'\n",
    "drS3 = 'style=\"font-style: italic; color: #4057A9; font-size: 1.1em; line-height: 100%\"'\n",
    "drS4 = 'style=\"font-size: 1.2em; font-weight: normal; line-height: 100%\"'\n",
    "drS5 ={'description_width': '250px'}\n",
    "drS6 ={'description_width': '200px'}\n",
    "drS7 = 'style=\"color: blue; font-size: 1.3em; line-height: 110%\"; '\n",
    "\n",
    "\n",
    "\n",
    "\n",
    "\n",
    "#droughtwgt_t1 = widgets.HTML(value='Step 1a. Specify drought or non-drought conditions pre-fire', style=drstyle2)\n",
    "droughtwgt_t1 = widgets.HTML(value=f\"<div {drS2}> Task A. Specify drought or non-drought conditions pre-fire</div>\")\n",
    "droughtwgt_t2 = widgets.HTML(value=f\"<div {drS7}><ul><li>Drought conditions pre-fire can affect the regeneration capacity of sprouting species post-fire.</li><li>Here we link to data for the South Coast Ecoregion on the Palmer Drought Severity Index and determine how many months out of the 12 months prior to the start of the fire were &lsquo;severe&rsquo; or &lsquo;extreme&rsquo; drought </li></ul></div>\")\n",
    "droughtwgt_t3 = widgets.HTML(value=f\"<div {drS4}>Link to: <a href='https://www.ncdc.noaa.gov/temp-and-precip/drought/historical-palmers'>NOAA Palmer Drought Severity Index</a> website and enter the &lsquo;start year&rsquo; and &lsquo;start month&rsquo; (12 months before the fire start date) and the &lsquo;end year&rsquo; and &lsquo;end month&rsquo;.  Record the number of months that the South Coast ecoregion is shown as &lsquo;moderate&rsquo; (&lt;-3PDSI )or &lsquo;extreme&rsquo; (&lt;-4 PDSI)</div>\")\n",
    "droughtwgt_e1 = widgets.BoundedIntText(\n",
    "    value=4,\n",
    "    min=0,\n",
    "    max=12,\n",
    "    step=1,\n",
    "    description='Number of months in previous 12 months with moderate or extreme PDSI ',\n",
    "    disabled=False,\n",
    "    style=drS1\n",
    ")\n",
    "# droughtwgt_t35 = widgets.HTML(value=f\"<div {drS4}><table><tr><td></td><td colspan=2><strong>&ge;6 months drought</strong></td></tr><tr><td></td><td>moderate</td><td>severe or extreme</td></tr><tr><td><strong>Year prefire</strong></td><td>no change</td><td>reduce by one class</td></tr></table></div>\")\n",
    "\n",
    "\n",
    "droughtwgt_b1 = widgets.GridBox(children=[droughtwgt_t1, droughtwgt_t2, droughtwgt_t3, droughtwgt_e1] ,\n",
    "                                layout=widgets.Layout(\n",
    "                                    grid_template_rows='auto auto auto auto',\n",
    "                                    grid_template_columns='100%',\n",
    "                                    grid_gap='20px 10px'))\n",
    "display(droughtwgt_b1)\n",
    "prefiredrought = False\n",
    "\n",
    "def update_droughtwgt_e1(change):\n",
    "    global prefiredrought\n",
    "    if change.new < 3:\n",
    "        prefiredrought = False\n",
    "    else:\n",
    "        prefiredrought = True\n",
    "        \n",
    "        \n",
    "\n",
    "        \n",
    "        \n",
    "   \n",
    "droughtwgt_e1.observe(update_droughtwgt_e1, names='value')\n",
    "\n",
    "\n",
    "\n",
    "    \n"
   ]
  },
  {
   "cell_type": "markdown",
   "metadata": {},
   "source": [
    "<p>Table 4. Modification of regeneration rate score in pixels with &ge; 40% resprouter or facultative seeders, based on occurrence of severe or extreme drought in the seven months of the growing season (November to May) before the fire</p>\n",
    "\n",
    "![Table 4](images/Table4c.png)"
   ]
  },
  {
   "cell_type": "code",
   "execution_count": 50,
   "metadata": {},
   "outputs": [
    {
     "data": {
      "application/vnd.jupyter.widget-view+json": {
       "model_id": "2f4a266005ce4d318fad6c2e0412776e",
       "version_major": 2,
       "version_minor": 0
      },
      "text/plain": [
       "GridBox(children=(HTML(value='<div style=\"font-size: 1.5em; font-weight: bold\"> Task B. Specify drought or non…"
      ]
     },
     "metadata": {},
     "output_type": "display_data"
    }
   ],
   "source": [
    "droughtwgt_t4 = widgets.HTML(value=f\"<div {drS2}> Task B. Specify drought or non-drought conditions post-fire</div>\")\n",
    "droughtwgt_t5 = widgets.HTML(value=f\"<div {drS7}><ul><li>Drought conditions post-fire can affect the ability of seeds to germinate and also the survival of seedlings, so it is critical consideration for the recovery of seeder species</li><li>Again, we link to data for the South Coast Ecoregion on the Palmer Drought Severity Index and determine how many months out of the 12 months after the start of the fire were &lsquo;severe&rsquo; or &lsquo;extreme&rsquo; drought </li><li>The tool is able to consider drought conditions for up to 3 years post-fire, but the tool can still be run if there are only data on year 1 and 2 post-fire</li></ul></div>\")\n",
    "droughtwgt_t6 = widgets.HTML(value=f\"<div {drS4}>Link to: <a href='https://www.ncdc.noaa.gov/temp-and-precip/drought/historical-palmers'>NOAA Palmer Drought Severity Index</a> website and enter the &lsquo;start year&rsquo; and &lsquo;start month&rsquo; (12 months before the fire start date) and the &lsquo;end year&rsquo; and &lsquo;end month&rsquo;.  Record the number of months that the South Coast ecoregion is shown as &lsquo;moderate&rsquo; (&lt;-3PDSI )or &lsquo;extreme&rsquo; (&lt;-4 PDSI)</div>\")\n",
    "droughtwgt_t7 = widgets.HTML(value=f\"<div {drS2}> Task C.  Specify if fire occurs in wet season or dry season</div>\")\n",
    "\n",
    "droughtwgt_e2 = widgets.BoundedIntText(\n",
    "    value=4,\n",
    "    min=0,\n",
    "    max=12,\n",
    "    step=1,\n",
    "    description='Post-fire year 1: Number of months',\n",
    "    disabled=False,\n",
    "    style=drS5)\n",
    "droughtwgt_e3 = widgets.BoundedIntText(\n",
    "    value=4,\n",
    "    min=0,\n",
    "    max=12,\n",
    "    step=1,\n",
    "    description='Post-fire year 2: Number of months',\n",
    "    disabled=False,\n",
    "    style=drS5)\n",
    "droughtwgt_e4 = widgets.BoundedIntText(\n",
    "    value=4,\n",
    "    min=0,\n",
    "    max=12,\n",
    "    step=1,\n",
    "    description='Post-fire year 3: Number of months',\n",
    "    disabled=False,\n",
    "    style=drS5)\n",
    "\n",
    "# droughtwgt_options = ['None', 'Moderate', 'Severe', 'Extreme']\n",
    "# droughtwgt_e2 = widgets.Dropdown(\n",
    "#    options=droughtwgt_options,\n",
    "#    value='Moderate',\n",
    "#    description='Post-fire year 1: Drought status >=6 months',\n",
    "#    disabled=False,\n",
    "#    style=drS6)\n",
    "# droughtwgt_e3 = widgets.Dropdown(\n",
    "#    options=droughtwgt_options,\n",
    "#    value='Moderate',\n",
    "#    description='Post-fire year 2: Drought status >=6 months',\n",
    "#    disabled=False,\n",
    " #   style=drS6)\n",
    "# droughtwgt_e4 = widgets.Dropdown(\n",
    "#    options=droughtwgt_options,\n",
    "#    value='Moderate',\n",
    "#    description='Post-fire year 3: Drought status >=6 months',\n",
    "#    disabled=False,\n",
    " #   style=drS6)\n",
    "\n",
    "droughtwgt_e5 = widgets.BoundedIntText(\n",
    "    value=3,\n",
    "    min=1,\n",
    "    max=3,\n",
    "    step=1,\n",
    "    description='No. of years post-fire drought data is available',\n",
    "    style=drS6\n",
    "    )\n",
    "\n",
    "droughtwgt_e6 = widgets.RadioButtons(\n",
    "    options=['Dry season fire (May-Oct)', 'Wet season fire (Nov-Apr)'],\n",
    "    description='Season of fire',\n",
    "    value='Dry season fire (May-Oct)',\n",
    "    disabled=False)\n",
    "\n",
    "droughtwgt_b2 = widgets.GridBox(children=[droughtwgt_t4, droughtwgt_t5, droughtwgt_t6,\n",
    "                                          droughtwgt_e5, droughtwgt_e2, droughtwgt_e3, droughtwgt_e4, droughtwgt_t7, droughtwgt_e6],\n",
    "                                layout=widgets.Layout(\n",
    "                                    grid_template_rows='auto auto auto auto auto auto auto auto auto auto',\n",
    "                                    grid_template_columns='100%',\n",
    "                                    grid_gap='20px 10px'))\n",
    "display(droughtwgt_b2)\n",
    "\n",
    "numpostfireyears = 3\n",
    "        \n",
    "def update_droughtwgt_e5(change):\n",
    "    global numpostfireyears\n",
    "    if change.new == 3:\n",
    "        droughtwgt_e4.layout.display = 'initial'\n",
    "        droughtwgt_e3.layout.display = 'initial'\n",
    "        droughtwgt_e2.layout.display = 'initial'\n",
    "        numpostfireyears = 3\n",
    "    elif change.new == 2:\n",
    "        droughtwgt_e4.layout.display = 'none'\n",
    "        droughtwgt_e3.layout.display = 'initial'\n",
    "        droughtwgt_e2.layout.display = 'initial'\n",
    "        numpostfireyears = 2\n",
    "    elif change.new == 1:\n",
    "        droughtwgt_e4.layout.display = 'none'\n",
    "        droughtwgt_e3.layout.display = 'none'\n",
    "        droughtwgt_e2.layout.display = 'initial'\n",
    "        numpostfireyears = 1\n",
    "        \n",
    "          \n",
    "\n",
    "droughtwgt_e5.observe(update_droughtwgt_e5, names='value')\n",
    "\n",
    "postyear1drought = False\n",
    "postyear2drought = False\n",
    "postyear3drought = False\n",
    "fireseason = 'dry'\n",
    "\n",
    "def update_droughtwgt_e6(change):\n",
    "    global fireseason\n",
    "    if change.new == 'Dry season fire (May-Oct)':\n",
    "        fireseason = 'dry'\n",
    "    else:\n",
    "        fireseason = 'wet'        \n",
    "   \n",
    "droughtwgt_e6.observe(update_droughtwgt_e6, names='value')\n",
    "\n",
    "\n",
    "def update_droughtwgt_e2(change):\n",
    "    global postyear1drought\n",
    "    if change.new < 4:\n",
    "        postyear1drought = False\n",
    "    else:\n",
    "        postyear1drought = True        \n",
    "   \n",
    "droughtwgt_e2.observe(update_droughtwgt_e2, names='value')\n",
    "    \n",
    "def update_droughtwgt_e3(change):\n",
    "    global postyear2drought\n",
    "    if change.new < 4:\n",
    "        postyear2drought = False\n",
    "    else:\n",
    "        postyear2drought = True\n",
    "        \n",
    "droughtwgt_e3.observe(update_droughtwgt_e3, names='value')\n",
    "   \n",
    "def update_droughtwgt_e4(change):\n",
    "    global postyear3drought\n",
    "    if change.new < 4:\n",
    "        postyear3drought = False\n",
    "    else:\n",
    "        postyear3drought = True        \n",
    "   \n",
    "droughtwgt_e4.observe(update_droughtwgt_e4, names='value')"
   ]
  },
  {
   "cell_type": "markdown",
   "metadata": {},
   "source": [
    "<p>Table 5. Modification of regeneration rate score based on occurrence of severe or extreme drought in the growing season (November to May) in years 1 to 3 post-fire</p> \n",
    "\n",
    "![Table 5](images/Table5c.png)\n",
    "\n",
    "<p> Table 6. Modification of regeneration rate score in pixels with 10-40% and <10% resprouter or facultative seeders, based on occurrence of fire in the dry season</p>\n",
    "\n",
    "![Table 6](images/Table6c.png)\n",
    "\n"
   ]
  },
  {
   "cell_type": "code",
   "execution_count": 29,
   "metadata": {
    "code_folding": [],
    "scrolled": false
   },
   "outputs": [
    {
     "data": {
      "image/png": "[encoded data removed]",
      "text/plain": [
       "<Figure size 1296x720 with 2 Axes>"
      ]
     },
     "metadata": {
      "needs_background": "light"
     },
     "output_type": "display_data"
    }
   ],
   "source": [
    "# plot expected regeneration with fire modified by drought\n",
    "# droughtmr = droughtmodifyrast(regenfireout, fvegarr2, prefiredrought, (False, False, False, False) )\n",
    "droughtmr = droughtmodifyrast2(regenfireout, fvegarr2, prefiredrought, postyear1drought, postyear2drought, postyear3drought, fireseason, numpostfireyears)\n",
    "\n",
    "fig, ax = plt.subplots(figsize=(18,10))\n",
    "cmap = redorangegreencm\n",
    "cmap.set_over(alpha=0)\n",
    "droughtmrplot = ax.imshow(droughtmr[0,], cmap=cmap, vmin=0.5, vmax=5.5)\n",
    "cbar = fig.colorbar(droughtmrplot, fraction=0.025, ticks=range(1,6))\n",
    "cbar.ax.set_yticklabels(invroglabels)\n",
    "# ax.set(title=\"OUTPUT MAP 3: Expected regeneration modified by fire history and drought\")\n",
    "autoAxis = ax.axis()\n",
    "rec = plt.Rectangle((autoAxis[0]-0.7,autoAxis[2]+15),(autoAxis[1]-autoAxis[0])+240,(autoAxis[3]-autoAxis[2])-40,fill=False,lw=2)\n",
    "rec = ax.add_patch(rec)\n",
    "rec.set_clip_on(False)\n",
    "ax.text(20,0, \"OUTPUT MAP 3: Expected regeneration modified by fire history and drought\",  fontsize=18)\n",
    "ax.set_axis_off();"
   ]
  },
  {
   "cell_type": "code",
   "execution_count": 30,
   "metadata": {
    "code_folding": [],
    "scrolled": false
   },
   "outputs": [
    {
     "data": {
      "application/vnd.jupyter.widget-view+json": {
       "model_id": "6cc77b7ef1b84d95afaf96a5c068c3f0",
       "version_major": 2,
       "version_minor": 0
      },
      "text/plain": [
       "SaveFileButton(description='Download output data', style=ButtonStyle(button_color='#D4D4D4'))"
      ]
     },
     "metadata": {},
     "output_type": "display_data"
    }
   ],
   "source": [
    "# download output data\n",
    "downloadwgt3 = SaveFileButton(droughtmr)\n",
    "display(downloadwgt3)"
   ]
  },
  {
   "cell_type": "code",
   "execution_count": 53,
   "metadata": {
    "code_folding": [],
    "scrolled": false
   },
   "outputs": [
    {
     "data": {
      "text/html": [
       "\n",
       "<h1>Step 4. Modify Regeneration Rate based on Non-Native Grasses</h1>\n",
       "<h2>Specify abundance on non-native grasses</h2>\n",
       "\n",
       "<ul class=\"infobox\">\n",
       "    <li >The presence of non-native grasses effects the ability of seeding species to germinate and survive post-fire.</li>\n",
       "    <li>Here we upload spatial data on the percent herbaceous cover derived from Landsat imagery (Park et al. 2018) which has been correlated to be non-native species.</li>\n",
       "    <li>The threshold of % herbaceous cover is defined by the user. As a guide, a conservative threshold of 20% is used as the default: above this threshold then non-native species are considered a high risk to the maintenance of desired conditions.</li>\n",
       " </ul>   \n",
       "\n"
      ],
      "text/plain": [
       "<IPython.core.display.HTML object>"
      ]
     },
     "metadata": {},
     "output_type": "display_data"
    }
   ],
   "source": [
    "%%html\n",
    "\n",
    "<h1>Step 4. Modify Regeneration Rate based on Non-Native Grasses</h1>\n",
    "<h2>Specify abundance on non-native grasses</h2>\n",
    "\n",
    "<ul class=\"infobox\">\n",
    "    <li >The presence of non-native grasses effects the ability of seeding species to germinate and survive post-fire.</li>\n",
    "    <li>Here we upload spatial data on the percent herbaceous cover derived from Landsat imagery (Park et al. 2018) which has been correlated to be non-native species.</li>\n",
    "    <li>The threshold of % herbaceous cover is defined by the user. As a guide, a conservative threshold of 20% is used as the default: above this threshold then non-native species are considered a high risk to the maintenance of desired conditions.</li>\n",
    " </ul>   \n",
    "\n"
   ]
  },
  {
   "cell_type": "code",
   "execution_count": 32,
   "metadata": {
    "code_folding": [],
    "scrolled": false
   },
   "outputs": [
    {
     "data": {
      "application/vnd.jupyter.widget-view+json": {
       "model_id": "2f56faf8c73e41d094d00082ac41e471",
       "version_major": 2,
       "version_minor": 0
      },
      "text/plain": [
       "BoundedIntText(value=20, description='Enter % threshold of herbaceous cover', step=10, style=DescriptionStyle(…"
      ]
     },
     "metadata": {},
     "output_type": "display_data"
    }
   ],
   "source": [
    "# threshold widget\n",
    "nnS1 ={'description_width': '200px'}\n",
    "nnwgt_e1 = widgets.BoundedIntText(\n",
    "    value=20,\n",
    "    min=0,\n",
    "    max=100,\n",
    "    step=10,\n",
    "    description='Enter % threshold of herbaceous cover',\n",
    "    disabled=False,\n",
    "    style=nnS1\n",
    ")\n",
    "display(nnwgt_e1)\n",
    "\n",
    "# initial threshold and invasives dictionary\n",
    "invasivethreshold = 0.2\n",
    "\n",
    "def update_nnwgt_e1(change):\n",
    "    global invasivethreshold\n",
    "    invasivethreshold = change.new * 0.01\n",
    "    # print(invasivethreshold)\n",
    "    \n",
    "nnwgt_e1.observe(update_nnwgt_e1, names='value')\n",
    "\n",
    "    \n",
    "# invasivethreshold = 0.3\n",
    "\n",
    "# tuples are (amount of resprouters, herbaceous cover)\n",
    "invasivedict = {('high', 'high'): 0,\n",
    "                ('high', 'low'): 0,\n",
    "                ('average', 'high'): -1,\n",
    "                ('average', 'low'): 0,\n",
    "                ('low', 'high'): -1,\n",
    "                ('low', 'low'): 0,\n",
    "                (None, 'high'): np.nan,\n",
    "                (None, 'low'): np.nan,\n",
    "                ('high', None): np.nan,\n",
    "                ('average', None): np.nan,\n",
    "                ('low', None): np.nan}"
   ]
  },
  {
   "cell_type": "markdown",
   "metadata": {},
   "source": [
    "<p>Table 7. Modification of regeneration rate score based on % cover of non-native grasses in each pixel</p>\n",
    "\n",
    "![Table 7](images/Table7c.png)"
   ]
  },
  {
   "cell_type": "code",
   "execution_count": 34,
   "metadata": {
    "code_folding": [],
    "scrolled": false
   },
   "outputs": [
    {
     "data": {
      "image/png": "[encoded data removed]",
      "text/plain": [
       "<Figure size 1296x720 with 2 Axes>"
      ]
     },
     "metadata": {
      "needs_background": "light"
     },
     "output_type": "display_data"
    }
   ],
   "source": [
    "# plot expected regeneration with fire modified by drought and invasives\n",
    "herbrast = xr.open_rasterio(nonnativerast)\n",
    "invasivemr = invasivesmodifyrast(droughtmr, fvegarr2, herbrast, invasivethreshold)\n",
    "\n",
    "\n",
    "fig, ax = plt.subplots(figsize=(18,10))\n",
    "cmap = redorangegreencm\n",
    "cmap.set_over(alpha=0)\n",
    "invasivemrplot = ax.imshow(invasivemr[0,], cmap=cmap, vmin=0.5, vmax=5.5)\n",
    "cbar = fig.colorbar(invasivemrplot, fraction=0.03, ticks=range(1,6))\n",
    "cbar.ax.set_yticklabels(invroglabels)\n",
    "#ax.set(title=\"OUTPUT MAP 4: Expected regeneration modified by fire history, drought and non-native grasses\")\n",
    "autoAxis = ax.axis()\n",
    "rec = plt.Rectangle((autoAxis[0]-0.7,autoAxis[2]+15),(autoAxis[1]-autoAxis[0])+240,(autoAxis[3]-autoAxis[2])-40,fill=False,lw=2)\n",
    "rec = ax.add_patch(rec)\n",
    "rec.set_clip_on(False)\n",
    "ax.text(20,30, \"\"\"OUTPUT MAP 4: Expected regeneration modified by fire history, \n",
    "            drought and non-native grasses\"\"\",  fontsize=18)\n",
    "ax.set_axis_off();"
   ]
  },
  {
   "cell_type": "code",
   "execution_count": 35,
   "metadata": {
    "scrolled": false
   },
   "outputs": [
    {
     "data": {
      "application/vnd.jupyter.widget-view+json": {
       "model_id": "01a05e6f0e1f478b93aba1fe5935559a",
       "version_major": 2,
       "version_minor": 0
      },
      "text/plain": [
       "SaveFileButton(description='Download output data', style=ButtonStyle(button_color='#D4D4D4'))"
      ]
     },
     "metadata": {},
     "output_type": "display_data"
    }
   ],
   "source": [
    "# download output data\n",
    "downloadwgt4 =  SaveFileButton(invasivemr)\n",
    "display(downloadwgt4)"
   ]
  },
  {
   "cell_type": "code",
   "execution_count": 55,
   "metadata": {},
   "outputs": [
    {
     "data": {
      "text/html": [
       "<hr>\n",
       "<h1>Step 5. Integrate Erosion Risk</h1>\n",
       "<ul>\n",
       "<li class=\"infotext\">The loss of vegetation cover post-fire increases the risk of erosion</li>\n",
       "<li class=\"infotext\">Here we integrate erosion risk data from USDA Forest Service BAER (Burned Area Emergency Response) which is \n",
       "modeled immediately post-fire</li>\n",
       "</ul>\n"
      ],
      "text/plain": [
       "<IPython.core.display.HTML object>"
      ]
     },
     "metadata": {},
     "output_type": "display_data"
    }
   ],
   "source": [
    "%%html\n",
    "<hr>\n",
    "<h1>Step 5. Integrate Erosion Risk</h1>\n",
    "<ul>\n",
    "<li class=\"infotext\">The loss of vegetation cover post-fire increases the risk of erosion</li>\n",
    "<li class=\"infotext\">Here we integrate erosion risk data from USDA Forest Service BAER (Burned Area Emergency Response) which is \n",
    "modeled immediately post-fire</li>\n",
    "</ul>"
   ]
  },
  {
   "cell_type": "code",
   "execution_count": 37,
   "metadata": {
    "code_folding": [],
    "scrolled": false
   },
   "outputs": [
    {
     "data": {
      "image/png": "[encoded data removed]",
      "text/plain": [
       "<Figure size 1296x720 with 2 Axes>"
      ]
     },
     "metadata": {
      "needs_background": "light"
     },
     "output_type": "display_data"
    }
   ],
   "source": [
    "# plot erosion classes\n",
    "\n",
    "erosionarr = xr.open_rasterio(erosionrast)\n",
    "erosioncrast = erosionclassrast(erosionarr)\n",
    "fig, ax = plt.subplots(figsize=(18,10))\n",
    "cmap = greenorangeredcm4\n",
    "cmap.set_over(alpha=0)\n",
    "erosionplot = ax.imshow(erosioncrast[0,], cmap=cmap, vmin=0.5, vmax=4.5)\n",
    "cbar = fig.colorbar(erosionplot, fraction=0.03, ticks=range(1,5))\n",
    "erosionclasslabels = ['0-25 tons/ha', '25-50 tons/ha', '50-100 tons/ha', '>100 tons/ha']\n",
    "cbar.ax.set_yticklabels(erosionclasslabels)\n",
    "# ax.set(title=\"autoAxis = ax.axis()\n",
    "autoAxis = ax.axis()\n",
    "rec = plt.Rectangle((autoAxis[0]-0.7,autoAxis[2]+15),(autoAxis[1]-autoAxis[0])+240,(autoAxis[3]-autoAxis[2])-40,fill=False,lw=2)\n",
    "rec = ax.add_patch(rec)\n",
    "rec.set_clip_on(False)\n",
    "ax.text(20,0, \"Sediment erosion classes\", fontsize=18)\n",
    "ax.set_axis_off();"
   ]
  },
  {
   "cell_type": "code",
   "execution_count": 54,
   "metadata": {
    "code_folding": [],
    "scrolled": false
   },
   "outputs": [
    {
     "data": {
      "text/html": [
       "\n",
       "<ul class=\"infotext\">\n",
       "<li>The integration of data on (modified) regeneration capacity and erosion risk allows the identification of areas within the fire perimeter that are potentially the most vulnerable to fire, i.e., areas with lower regeneration capacity and with more risk of soil erosion </li>\n",
       "<li>A field survey carried out 2-3 years post-fire is essential to improve the reliability of the vegetation regeneration map and to improve the assessment of impacts from drought and non-native grasses. </li>\n",
       "</ul>\n",
       "\n",
       "\n"
      ],
      "text/plain": [
       "<IPython.core.display.HTML object>"
      ]
     },
     "metadata": {},
     "output_type": "display_data"
    }
   ],
   "source": [
    "%%html\n",
    "\n",
    "<ul class=\"infotext\">\n",
    "<li>The integration of data on (modified) regeneration capacity and erosion risk allows the identification of areas within the fire perimeter that are potentially the most vulnerable to fire, i.e., areas with lower regeneration capacity and with more risk of soil erosion </li>\n",
    "<li>A field survey carried out 2-3 years post-fire is essential to improve the reliability of the vegetation regeneration map and to improve the assessment of impacts from drought and non-native grasses. </li>\n",
    "</ul>\n",
    "\n",
    "\n"
   ]
  },
  {
   "cell_type": "markdown",
   "metadata": {},
   "source": [
    "<p>Table 8. Integration of the regeneration rate (based on post-fire reproductive strategy, fire history, pre- and post-fire drought, and non-native grass cover) and the BAER erosion risk data</p>\n",
    "\n",
    "![Table 8](images/Table8c.png)"
   ]
  },
  {
   "cell_type": "code",
   "execution_count": 39,
   "metadata": {
    "code_folding": [],
    "scrolled": false
   },
   "outputs": [
    {
     "data": {
      "image/png": "[encoded data removed]",
      "text/plain": [
       "<Figure size 1296x720 with 2 Axes>"
      ]
     },
     "metadata": {
      "needs_background": "light"
     },
     "output_type": "display_data"
    }
   ],
   "source": [
    "# plot erosion by vulnerability\n",
    "erosionvrast = erosionvulnrast(droughtmr, erosioncrast)\n",
    "\n",
    "fig, ax = plt.subplots(figsize=(18,10))\n",
    "cmap = veryredorangegreencm\n",
    "cmap.set_over(alpha=0)\n",
    "erosionvplot = ax.imshow(erosionvrast[0,], cmap=cmap, vmin=0.5, vmax=4.5)\n",
    "cbar = fig.colorbar(erosionvplot, fraction=0.03, ticks=range(1,5))\n",
    "erosionvulnlabels = ['Low', 'Moderate', 'High', 'Very High']\n",
    "cbar.ax.set_yticklabels(erosionvulnlabels)\n",
    "# ax.set(title=\"Final vulnerability map\")\n",
    "autoAxis = ax.axis()\n",
    "rec = plt.Rectangle((autoAxis[0]-0.7,autoAxis[2]+15),(autoAxis[1]-autoAxis[0])+240,(autoAxis[3]-autoAxis[2])-40,fill=False,lw=2)\n",
    "rec = ax.add_patch(rec)\n",
    "rec.set_clip_on(False)\n",
    "ax.text(20,0, \"OUTPUT MAP 4. Summary map of ecosystem degradation risk\",  fontsize=18)\n",
    "ax.set_axis_off();"
   ]
  },
  {
   "cell_type": "code",
   "execution_count": 40,
   "metadata": {
    "scrolled": true
   },
   "outputs": [
    {
     "data": {
      "application/vnd.jupyter.widget-view+json": {
       "model_id": "2fef13c2dc454069b0032844566d1424",
       "version_major": 2,
       "version_minor": 0
      },
      "text/plain": [
       "SaveFileButton(description='Download output data', style=ButtonStyle(button_color='#D4D4D4'))"
      ]
     },
     "metadata": {},
     "output_type": "display_data"
    }
   ],
   "source": [
    "# download output data\n",
    "downloadwgt5 =  SaveFileButton(erosionvrast)\n",
    "display(downloadwgt5)"
   ]
  },
  {
   "cell_type": "code",
   "execution_count": null,
   "metadata": {},
   "outputs": [],
   "source": []
  }
 ],
 "metadata": {
  "kernelspec": {
   "display_name": "Python 3",
   "language": "python",
   "name": "python3"
  },
  "language_info": {
   "codemirror_mode": {
    "name": "ipython",
    "version": 3
   },
   "file_extension": ".py",
   "mimetype": "text/x-python",
   "name": "python",
   "nbconvert_exporter": "python",
   "pygments_lexer": "ipython3",
   "version": "3.6.7"
  },
  "widgets": {
   "application/vnd.jupyter.widget-state+json": {
    "state": {
     "01c5553446e547d6bba249ccace26f88": {
      "model_module": "@jupyter-widgets/base",
      "model_module_version": "1.1.0",
      "model_name": "LayoutModel",
      "state": {}
     },
     "01ca3a6c627942879254db1786096a54": {
      "model_module": "@jupyter-widgets/base",
      "model_module_version": "1.1.0",
      "model_name": "LayoutModel",
      "state": {}
     },
     "08b39e572d704861a31fdb451b4ef99d": {
      "model_module": "@jupyter-widgets/controls",
      "model_module_version": "1.4.0",
      "model_name": "DescriptionStyleModel",
      "state": {
       "description_width": "300px"
      }
     },
     "09c9f495d4754a80b6eb80879fc93083": {
      "model_module": "@jupyter-widgets/controls",
      "model_module_version": "1.4.0",
      "model_name": "DropdownModel",
      "state": {
       "_options_labels": [
        "40-100%",
        "10-40%",
        "0-10%",
        "N/A"
       ],
       "description": "CSC: south-facing slopes; summits; ridges",
       "index": 1,
       "layout": "IPY_MODEL_4badf23ff4b54c3e9b2f7e47e2b5d911",
       "style": "IPY_MODEL_f2121596d51d48fd8abc4119ff885ac6"
      }
     },
     "0a08c4aef8fb472ca0de816f1013142c": {
      "model_module": "@jupyter-widgets/controls",
      "model_module_version": "1.4.0",
      "model_name": "GridBoxModel",
      "state": {
       "children": [
        "IPY_MODEL_83ffff8629194be7a8b7a883356ccda9",
        "IPY_MODEL_3be66a8093e2462d98b24f1486547011",
        "IPY_MODEL_da4cc1aba3c74f379a170f08e1395d70",
        "IPY_MODEL_be4f426830fa457daae6809b1670d79b"
       ],
       "layout": "IPY_MODEL_1ee67a74038c4a958b71f6d99dae59e1"
      }
     },
     "0b9bd62995da4447bf0bf1fc804a9c6e": {
      "model_module": "@jupyter-widgets/controls",
      "model_module_version": "1.4.0",
      "model_name": "DescriptionStyleModel",
      "state": {
       "description_width": ""
      }
     },
     "0ea59dd82fe94885a2cac5523be9bb22": {
      "model_module": "@jupyter-widgets/base",
      "model_module_version": "1.1.0",
      "model_name": "LayoutModel",
      "state": {}
     },
     "0f4b326450b342549230b747fa1e671d": {
      "model_module": "@jupyter-widgets/controls",
      "model_module_version": "1.4.0",
      "model_name": "ButtonModel",
      "state": {
       "description": "Select File",
       "icon": "square-o",
       "layout": "IPY_MODEL_11c881748f41419abf3ccda9576badc5",
       "style": "IPY_MODEL_363e349f80b746bc88f00ddb21dcae35"
      }
     },
     "0f98cae83caa4d6eaa386fe7e88d4574": {
      "model_module": "@jupyter-widgets/controls",
      "model_module_version": "1.4.0",
      "model_name": "HTMLModel",
      "state": {
       "layout": "IPY_MODEL_01c5553446e547d6bba249ccace26f88",
       "style": "IPY_MODEL_d03dcd7e53914a4cb8eacd2327997c41",
       "value": "<div style=\"font-size: 1.1em; font-weight: normal; line-height: 100%\"> Landscape class raster</div>"
      }
     },
     "10196eb6a4b94ee78e6416c807d85046": {
      "model_module": "@jupyter-widgets/controls",
      "model_module_version": "1.4.0",
      "model_name": "HTMLModel",
      "state": {
       "layout": "IPY_MODEL_86c53f81925a4b1fa92397c41dfbf0a8",
       "style": "IPY_MODEL_8136602297034af2987448d0412cca61",
       "value": "<div style=\"font-size: 1.1em; font-weight: normal; line-height: 100%\"> Erosion raster</div>"
      }
     },
     "11c881748f41419abf3ccda9576badc5": {
      "model_module": "@jupyter-widgets/base",
      "model_module_version": "1.1.0",
      "model_name": "LayoutModel",
      "state": {}
     },
     "1b8002fdfcc743e5adb68ec75e9f591c": {
      "model_module": "@jupyter-widgets/controls",
      "model_module_version": "1.4.0",
      "model_name": "DropdownModel",
      "state": {
       "_options_labels": [
        "None",
        "Moderate",
        "Severe",
        "Extreme"
       ],
       "description": "Post-fire year 1: Drought status >=6 months",
       "index": 1,
       "layout": "IPY_MODEL_46bb1f7d4c79445391549e76ff49129d",
       "style": "IPY_MODEL_711ad44e6f2c402cb016de44906acbe4"
      }
     },
     "1ed68af2d64947caaff32e5633ffa163": {
      "model_module": "@jupyter-widgets/base",
      "model_module_version": "1.1.0",
      "model_name": "LayoutModel",
      "state": {}
     },
     "1ee67a74038c4a958b71f6d99dae59e1": {
      "model_module": "@jupyter-widgets/base",
      "model_module_version": "1.1.0",
      "model_name": "LayoutModel",
      "state": {
       "grid_gap": "20px 10px",
       "grid_template_columns": "60%",
       "grid_template_rows": "auto auto auto auto"
      }
     },
     "20eaaba70f3b4146a7d2dc6d2defd636": {
      "model_module": "@jupyter-widgets/output",
      "model_module_version": "1.0.0",
      "model_name": "OutputModel",
      "state": {
       "layout": "IPY_MODEL_8f30ec0f499645c98079fc3bd0589e91"
      }
     },
     "215417c35c8747f69c8d78b0b16919c2": {
      "model_module": "@jupyter-widgets/base",
      "model_module_version": "1.1.0",
      "model_name": "LayoutModel",
      "state": {}
     },
     "216de6d5b94e474f89f6c60bdbae0a5e": {
      "model_module": "@jupyter-widgets/controls",
      "model_module_version": "1.4.0",
      "model_name": "DescriptionStyleModel",
      "state": {
       "description_width": ""
      }
     },
     "21da9a2899384d62a01e33f05cfacae5": {
      "model_module": "@jupyter-widgets/base",
      "model_module_version": "1.1.0",
      "model_name": "LayoutModel",
      "state": {}
     },
     "22618b60e0614f0abf64313720b3bd58": {
      "model_module": "@jupyter-widgets/controls",
      "model_module_version": "1.4.0",
      "model_name": "HTMLModel",
      "state": {
       "layout": "IPY_MODEL_215417c35c8747f69c8d78b0b16919c2",
       "style": "IPY_MODEL_7f31be36e8d945739feacb6666204d24",
       "value": "<div style=\"font-size: 1.5em; font-weight: bold\"> Task b. Specify drought or non-drought conditions post-fire</div>"
      }
     },
     "22c8f7eb53fd4e7794839d9c0c1ea256": {
      "model_module": "@jupyter-widgets/base",
      "model_module_version": "1.1.0",
      "model_name": "LayoutModel",
      "state": {}
     },
     "2828c85ebbad4b8c876790005c298c13": {
      "model_module": "@jupyter-widgets/base",
      "model_module_version": "1.1.0",
      "model_name": "LayoutModel",
      "state": {}
     },
     "29071153ef0c436c834401cb07bce72c": {
      "model_module": "@jupyter-widgets/controls",
      "model_module_version": "1.4.0",
      "model_name": "HTMLModel",
      "state": {
       "layout": "IPY_MODEL_c52f1f9fb90a4402afa087594342867d",
       "style": "IPY_MODEL_0b9bd62995da4447bf0bf1fc804a9c6e",
       "value": "<div style=\"font-size: 1.1em; font-weight: normal; line-height: 100%\"> Non-native species raster</div>"
      }
     },
     "29ddceebf58e45c196bc4a9986360334": {
      "model_module": "@jupyter-widgets/controls",
      "model_module_version": "1.4.0",
      "model_name": "DescriptionStyleModel",
      "state": {
       "description_width": "300px"
      }
     },
     "2a29d6675a07444f8f98a09c5db0fa69": {
      "model_module": "@jupyter-widgets/controls",
      "model_module_version": "1.4.0",
      "model_name": "DescriptionStyleModel",
      "state": {
       "description_width": ""
      }
     },
     "2b865fadccc5413485e9a821331fa94e": {
      "model_module": "@jupyter-widgets/controls",
      "model_module_version": "1.4.0",
      "model_name": "ButtonStyleModel",
      "state": {
       "button_color": "#D4D4D4"
      }
     },
     "2c5c2a0a4a204b6f8618a5c9da71de36": {
      "model_module": "@jupyter-widgets/controls",
      "model_module_version": "1.4.0",
      "model_name": "DescriptionStyleModel",
      "state": {
       "description_width": "300px"
      }
     },
     "2cd9a090dacc4588aa551b0e945901a7": {
      "model_module": "@jupyter-widgets/controls",
      "model_module_version": "1.4.0",
      "model_name": "DescriptionStyleModel",
      "state": {
       "description_width": ""
      }
     },
     "30259566947041699b19d071921ac031": {
      "model_module": "@jupyter-widgets/controls",
      "model_module_version": "1.4.0",
      "model_name": "GridBoxModel",
      "state": {
       "children": [
        "IPY_MODEL_5ddf57ff3ff24ee193a1074b81f41a28",
        "IPY_MODEL_f852baa05be845dfb768889d22bd1fee",
        "IPY_MODEL_0f98cae83caa4d6eaa386fe7e88d4574",
        "IPY_MODEL_7f1a00167cb844ab947de4b2790e7b55",
        "IPY_MODEL_3f93441d218a42a2ab2c06aef5627207",
        "IPY_MODEL_caea586a9dad4750a1afaffe2f4dc3ba",
        "IPY_MODEL_29071153ef0c436c834401cb07bce72c",
        "IPY_MODEL_0f4b326450b342549230b747fa1e671d",
        "IPY_MODEL_10196eb6a4b94ee78e6416c807d85046",
        "IPY_MODEL_fa9dae78209a43599d9ff26608df4004"
       ],
       "layout": "IPY_MODEL_edd3139a6525470e9c39dcfe97b3ad99"
      }
     },
     "356b490c7f7649ae87557b827c430b64": {
      "model_module": "@jupyter-widgets/controls",
      "model_module_version": "1.4.0",
      "model_name": "DropdownModel",
      "state": {
       "_options_labels": [
        "40-100%",
        "10-40%",
        "0-10%",
        "N/A"
       ],
       "description": "VRI: south-facing slopes; summits; ridges",
       "index": 2,
       "layout": "IPY_MODEL_4badf23ff4b54c3e9b2f7e47e2b5d911",
       "style": "IPY_MODEL_a9cf6a6ed3ec4f28942da0e2bbcb2d57"
      }
     },
     "363e349f80b746bc88f00ddb21dcae35": {
      "model_module": "@jupyter-widgets/controls",
      "model_module_version": "1.4.0",
      "model_name": "ButtonStyleModel",
      "state": {
       "button_color": "orange"
      }
     },
     "3be66a8093e2462d98b24f1486547011": {
      "model_module": "@jupyter-widgets/controls",
      "model_module_version": "1.4.0",
      "model_name": "HTMLModel",
      "state": {
       "layout": "IPY_MODEL_5b6c5f09c6044cd595fe214ccefc0a0f",
       "style": "IPY_MODEL_429f7a1da4924396baf274f5cb44b80f",
       "value": "<div style=\"color: blue; font-size: 1.2em; line-height: 110%\"; ><ul><li>Drought conditions pre-fire can affect the regeneration capacity of sprouting species post-fire.</li><li>Here we link to data for the South Coast Ecoregion on the Palmer Drought Severity Index and determine how many months out of the 12 months prior to the start of the fire were &lsquo;severe&rsquo; or &lsquo;extreme&rsquo; drought </li></ul></div>"
      }
     },
     "3f93441d218a42a2ab2c06aef5627207": {
      "model_module": "@jupyter-widgets/controls",
      "model_module_version": "1.4.0",
      "model_name": "HTMLModel",
      "state": {
       "layout": "IPY_MODEL_6351747583044d61b833f30ab719b26b",
       "style": "IPY_MODEL_216de6d5b94e474f89f6c60bdbae0a5e",
       "value": "<div style=\"font-size: 1.1em; font-weight: normal; line-height: 100%\"> Fire count raster</div>"
      }
     },
     "40337d7647a34fffacfacedf77589d8f": {
      "model_module": "@jupyter-widgets/base",
      "model_module_version": "1.1.0",
      "model_name": "LayoutModel",
      "state": {}
     },
     "40f7064b908e4056841ef9ac5eb813ed": {
      "model_module": "@jupyter-widgets/controls",
      "model_module_version": "1.4.0",
      "model_name": "DropdownModel",
      "state": {
       "_options_labels": [
        "40-100%",
        "10-40%",
        "0-10%",
        "N/A"
       ],
       "description": "CRC: north-facing slopes; valleys; depressions",
       "index": 1,
       "layout": "IPY_MODEL_4badf23ff4b54c3e9b2f7e47e2b5d911",
       "style": "IPY_MODEL_29ddceebf58e45c196bc4a9986360334"
      }
     },
     "429f7a1da4924396baf274f5cb44b80f": {
      "model_module": "@jupyter-widgets/controls",
      "model_module_version": "1.4.0",
      "model_name": "DescriptionStyleModel",
      "state": {
       "description_width": ""
      }
     },
     "42ed7422b3b84de5a8e4aa95d581848c": {
      "model_module": "@jupyter-widgets/controls",
      "model_module_version": "1.4.0",
      "model_name": "DescriptionStyleModel",
      "state": {
       "description_width": ""
      }
     },
     "44931ae6835744fdb1b0c4a0c1c872d0": {
      "model_module": "@jupyter-widgets/controls",
      "model_module_version": "1.4.0",
      "model_name": "BoundedIntTextModel",
      "state": {
       "description": "No. of years post-fire drought data is available",
       "layout": "IPY_MODEL_b39393730b2448ddad169c8a7c5e475a",
       "max": 3,
       "min": 1,
       "style": "IPY_MODEL_7159cba68c9c4e87b4b47fd6c2efb492",
       "value": 3
      }
     },
     "46bb1f7d4c79445391549e76ff49129d": {
      "model_module": "@jupyter-widgets/base",
      "model_module_version": "1.1.0",
      "model_name": "LayoutModel",
      "state": {}
     },
     "499eb6d1823945569e6b1e342a8eadcf": {
      "model_module": "@jupyter-widgets/base",
      "model_module_version": "1.1.0",
      "model_name": "LayoutModel",
      "state": {}
     },
     "4badf23ff4b54c3e9b2f7e47e2b5d911": {
      "model_module": "@jupyter-widgets/base",
      "model_module_version": "1.1.0",
      "model_name": "LayoutModel",
      "state": {
       "height": "30px",
       "width": "50%"
      }
     },
     "4f255de97cc146609eab68a3a83a7de6": {
      "model_module": "@jupyter-widgets/controls",
      "model_module_version": "1.4.0",
      "model_name": "ButtonModel",
      "state": {
       "description": "Download output data",
       "layout": "IPY_MODEL_72344073dd2f4d4f8ae6eb3b00f23723",
       "style": "IPY_MODEL_2b865fadccc5413485e9a821331fa94e"
      }
     },
     "4f27cc89c7f64890b441515e6b6791b0": {
      "model_module": "@jupyter-widgets/controls",
      "model_module_version": "1.4.0",
      "model_name": "ButtonModel",
      "state": {
       "description": "Download output data",
       "layout": "IPY_MODEL_e3181515e3454183b32a94cbe0c11aa5",
       "style": "IPY_MODEL_ced7ce95660e4d45b40ef99e7455159a"
      }
     },
     "5027022085234e45811b684796e28b8e": {
      "model_module": "@jupyter-widgets/controls",
      "model_module_version": "1.4.0",
      "model_name": "ButtonStyleModel",
      "state": {
       "button_color": "#D4D4D4"
      }
     },
     "5275542817f94004a7f4ef903f0a1546": {
      "model_module": "@jupyter-widgets/base",
      "model_module_version": "1.1.0",
      "model_name": "LayoutModel",
      "state": {}
     },
     "5b6c5f09c6044cd595fe214ccefc0a0f": {
      "model_module": "@jupyter-widgets/base",
      "model_module_version": "1.1.0",
      "model_name": "LayoutModel",
      "state": {}
     },
     "5c2b0d03840246fd83cda8261acf8885": {
      "model_module": "@jupyter-widgets/base",
      "model_module_version": "1.1.0",
      "model_name": "LayoutModel",
      "state": {}
     },
     "5dd3e57f936541a4bce274aa33900c5c": {
      "model_module": "@jupyter-widgets/controls",
      "model_module_version": "1.4.0",
      "model_name": "DescriptionStyleModel",
      "state": {
       "description_width": "300px"
      }
     },
     "5ddf57ff3ff24ee193a1074b81f41a28": {
      "model_module": "@jupyter-widgets/controls",
      "model_module_version": "1.4.0",
      "model_name": "HTMLModel",
      "state": {
       "layout": "IPY_MODEL_7c20754b79ab411d883ae8749aef623a",
       "style": "IPY_MODEL_42ed7422b3b84de5a8e4aa95d581848c",
       "value": "<div style=\"font-size: 1.5em; font-weight: bold\"> Select input rasters</div>"
      }
     },
     "5f427619234d4943853fd424b6a5fe26": {
      "model_module": "@jupyter-widgets/base",
      "model_module_version": "1.1.0",
      "model_name": "LayoutModel",
      "state": {}
     },
     "6351747583044d61b833f30ab719b26b": {
      "model_module": "@jupyter-widgets/base",
      "model_module_version": "1.1.0",
      "model_name": "LayoutModel",
      "state": {}
     },
     "6392dc438f2c438a98a4cc9795bf31ee": {
      "model_module": "@jupyter-widgets/controls",
      "model_module_version": "1.4.0",
      "model_name": "DropdownModel",
      "state": {
       "_options_labels": [
        "40-100%",
        "10-40%",
        "0-10%",
        "N/A"
       ],
       "description": "Other: north-facing slopes; valleys; depressions",
       "index": 2,
       "layout": "IPY_MODEL_4badf23ff4b54c3e9b2f7e47e2b5d911",
       "style": "IPY_MODEL_76b7bfff0e834ec593eea143e083c2cf"
      }
     },
     "67366cac19234536aba27ee4be4016b2": {
      "model_module": "@jupyter-widgets/base",
      "model_module_version": "1.1.0",
      "model_name": "LayoutModel",
      "state": {
       "grid_gap": "20px 10px",
       "grid_template_columns": "60%",
       "grid_template_rows": "auto auto auto auto auto auto auto auto"
      }
     },
     "6b361aa7221c46a388279c8d891f1729": {
      "model_module": "@jupyter-widgets/controls",
      "model_module_version": "1.4.0",
      "model_name": "DropdownModel",
      "state": {
       "_options_labels": [
        "40-100%",
        "10-40%",
        "0-10%",
        "N/A"
       ],
       "description": "CRC: south-facing slopes; summits; ridges",
       "index": 1,
       "layout": "IPY_MODEL_4badf23ff4b54c3e9b2f7e47e2b5d911",
       "style": "IPY_MODEL_90ea2855660e41bea0f1d3f9f4ff0258"
      }
     },
     "6d7077f8688f4b4199ce3b625da987cb": {
      "model_module": "@jupyter-widgets/base",
      "model_module_version": "1.1.0",
      "model_name": "LayoutModel",
      "state": {}
     },
     "6f99d74d23b6498d89e372635594fa92": {
      "model_module": "@jupyter-widgets/controls",
      "model_module_version": "1.4.0",
      "model_name": "DescriptionStyleModel",
      "state": {
       "description_width": "300px"
      }
     },
     "711ad44e6f2c402cb016de44906acbe4": {
      "model_module": "@jupyter-widgets/controls",
      "model_module_version": "1.4.0",
      "model_name": "DescriptionStyleModel",
      "state": {
       "description_width": "200px"
      }
     },
     "7159cba68c9c4e87b4b47fd6c2efb492": {
      "model_module": "@jupyter-widgets/controls",
      "model_module_version": "1.4.0",
      "model_name": "DescriptionStyleModel",
      "state": {
       "description_width": "200px"
      }
     },
     "72344073dd2f4d4f8ae6eb3b00f23723": {
      "model_module": "@jupyter-widgets/base",
      "model_module_version": "1.1.0",
      "model_name": "LayoutModel",
      "state": {}
     },
     "7374b898b7b04034b8d4a9bd522d0164": {
      "model_module": "@jupyter-widgets/controls",
      "model_module_version": "1.4.0",
      "model_name": "DropdownModel",
      "state": {
       "_options_labels": [
        "40-100%",
        "10-40%",
        "0-10%",
        "N/A"
       ],
       "description": "VRI: north-facing slopes; valleys; depressions",
       "index": 3,
       "layout": "IPY_MODEL_4badf23ff4b54c3e9b2f7e47e2b5d911",
       "style": "IPY_MODEL_74e0f3d598234b6c9ce1325e22909f48"
      }
     },
     "742f1844244d41acb6127929f0cef605": {
      "model_module": "@jupyter-widgets/controls",
      "model_module_version": "1.4.0",
      "model_name": "ButtonModel",
      "state": {
       "description": "Download output data",
       "layout": "IPY_MODEL_a0290d27d5bc4ef8921105e4078c75b7",
       "style": "IPY_MODEL_5027022085234e45811b684796e28b8e"
      }
     },
     "74e0f3d598234b6c9ce1325e22909f48": {
      "model_module": "@jupyter-widgets/controls",
      "model_module_version": "1.4.0",
      "model_name": "DescriptionStyleModel",
      "state": {
       "description_width": "300px"
      }
     },
     "75cce982115b4ddfbbe9053c569a254c": {
      "model_module": "@jupyter-widgets/controls",
      "model_module_version": "1.4.0",
      "model_name": "DescriptionStyleModel",
      "state": {
       "description_width": "150px"
      }
     },
     "76b7bfff0e834ec593eea143e083c2cf": {
      "model_module": "@jupyter-widgets/controls",
      "model_module_version": "1.4.0",
      "model_name": "DescriptionStyleModel",
      "state": {
       "description_width": "300px"
      }
     },
     "7b137d79501f42068a2fde3480123475": {
      "model_module": "@jupyter-widgets/controls",
      "model_module_version": "1.4.0",
      "model_name": "DropdownModel",
      "state": {
       "_options_labels": [
        "40-100%",
        "10-40%",
        "0-10%",
        "N/A"
       ],
       "description": "CSC: north-facing slopes; valleys; depressions",
       "index": 1,
       "layout": "IPY_MODEL_4badf23ff4b54c3e9b2f7e47e2b5d911",
       "style": "IPY_MODEL_7b8ab2c813954441a4af83d1ad5c777a"
      }
     },
     "7b8ab2c813954441a4af83d1ad5c777a": {
      "model_module": "@jupyter-widgets/controls",
      "model_module_version": "1.4.0",
      "model_name": "DescriptionStyleModel",
      "state": {
       "description_width": "300px"
      }
     },
     "7c20754b79ab411d883ae8749aef623a": {
      "model_module": "@jupyter-widgets/base",
      "model_module_version": "1.1.0",
      "model_name": "LayoutModel",
      "state": {}
     },
     "7f1a00167cb844ab947de4b2790e7b55": {
      "model_module": "@jupyter-widgets/controls",
      "model_module_version": "1.4.0",
      "model_name": "ButtonModel",
      "state": {
       "description": "Select File",
       "icon": "square-o",
       "layout": "IPY_MODEL_40337d7647a34fffacfacedf77589d8f",
       "style": "IPY_MODEL_b247c132cca54343844cd3c216f9e02b"
      }
     },
     "7f31be36e8d945739feacb6666204d24": {
      "model_module": "@jupyter-widgets/controls",
      "model_module_version": "1.4.0",
      "model_name": "DescriptionStyleModel",
      "state": {
       "description_width": ""
      }
     },
     "7f6926fcf2574b4c8bdefe14532a7bef": {
      "model_module": "@jupyter-widgets/controls",
      "model_module_version": "1.4.0",
      "model_name": "DropdownModel",
      "state": {
       "_options_labels": [
        "40-100%",
        "10-40%",
        "0-10%",
        "N/A"
       ],
       "description": "MCH: south-facing slopes; summits; ridges",
       "index": 0,
       "layout": "IPY_MODEL_4badf23ff4b54c3e9b2f7e47e2b5d911",
       "style": "IPY_MODEL_6f99d74d23b6498d89e372635594fa92"
      }
     },
     "8136602297034af2987448d0412cca61": {
      "model_module": "@jupyter-widgets/controls",
      "model_module_version": "1.4.0",
      "model_name": "DescriptionStyleModel",
      "state": {
       "description_width": ""
      }
     },
     "82d7afe3b71e48c7ac34c2cce098fcec": {
      "model_module": "@jupyter-widgets/controls",
      "model_module_version": "1.4.0",
      "model_name": "DescriptionStyleModel",
      "state": {
       "description_width": "100px"
      }
     },
     "83ffff8629194be7a8b7a883356ccda9": {
      "model_module": "@jupyter-widgets/controls",
      "model_module_version": "1.4.0",
      "model_name": "HTMLModel",
      "state": {
       "layout": "IPY_MODEL_0ea59dd82fe94885a2cac5523be9bb22",
       "style": "IPY_MODEL_90066fef27aa427296e174e1b6663445",
       "value": "<div style=\"font-size: 1.5em; font-weight: bold\"> Task a. Specify drought or non-drought conditions pre-fire</div>"
      }
     },
     "86c53f81925a4b1fa92397c41dfbf0a8": {
      "model_module": "@jupyter-widgets/base",
      "model_module_version": "1.1.0",
      "model_name": "LayoutModel",
      "state": {}
     },
     "8ee5e4fede224dd7b87d7986ee0273ee": {
      "model_module": "@jupyter-widgets/controls",
      "model_module_version": "1.4.0",
      "model_name": "ButtonStyleModel",
      "state": {
       "button_color": "#D4D4D4"
      }
     },
     "8f30ec0f499645c98079fc3bd0589e91": {
      "model_module": "@jupyter-widgets/base",
      "model_module_version": "1.1.0",
      "model_name": "LayoutModel",
      "state": {}
     },
     "8fed558fccbd4ae08bfd9cc53a569719": {
      "model_module": "@jupyter-widgets/controls",
      "model_module_version": "1.4.0",
      "model_name": "ButtonStyleModel",
      "state": {
       "button_color": "#D4D4D4"
      }
     },
     "90066fef27aa427296e174e1b6663445": {
      "model_module": "@jupyter-widgets/controls",
      "model_module_version": "1.4.0",
      "model_name": "DescriptionStyleModel",
      "state": {
       "description_width": ""
      }
     },
     "90ea2855660e41bea0f1d3f9f4ff0258": {
      "model_module": "@jupyter-widgets/controls",
      "model_module_version": "1.4.0",
      "model_name": "DescriptionStyleModel",
      "state": {
       "description_width": "300px"
      }
     },
     "943da1638df94d8f8d0670b00b7d2934": {
      "model_module": "@jupyter-widgets/controls",
      "model_module_version": "1.4.0",
      "model_name": "HTMLModel",
      "state": {
       "layout": "IPY_MODEL_21da9a2899384d62a01e33f05cfacae5",
       "style": "IPY_MODEL_2cd9a090dacc4588aa551b0e945901a7",
       "value": "<div style=\"font-size: 1.2em; font-weight: normal; line-height: 100%\">Link to: <a href='https://www.ncdc.noaa.gov/temp-and-precip/drought/historical-palmers'>NOAA Palmer Drought Severity Index</a> website and enter the &lsquo;start year&rsquo; and &lsquo;start month&rsquo; (12 months before the fire start date) and the &lsquo;end year&rsquo; and &lsquo;end month&rsquo;.  Record the number of months that the South Coast ecoregion is shown as &lsquo;moderate&rsquo; (&lt;-3PDSI )or &lsquo;extreme&rsquo; (&lt;-4 PDSI)</div>"
      }
     },
     "95e819c6e75e4e3aab5ff21ded4f0c20": {
      "model_module": "@jupyter-widgets/controls",
      "model_module_version": "1.4.0",
      "model_name": "ButtonModel",
      "state": {
       "description": "Download output data",
       "layout": "IPY_MODEL_5275542817f94004a7f4ef903f0a1546",
       "style": "IPY_MODEL_8ee5e4fede224dd7b87d7986ee0273ee"
      }
     },
     "97745fc3ca334697a297d55e5e65f12c": {
      "model_module": "@jupyter-widgets/controls",
      "model_module_version": "1.4.0",
      "model_name": "RadioButtonsModel",
      "state": {
       "_options_labels": [
        "Use WHR veg types only",
        "Use WHR veg types x aspect x topography"
       ],
       "description": "Landscape units",
       "index": 1,
       "layout": "IPY_MODEL_d7bdc5a0cc1c44968bfba852e27c91bf",
       "style": "IPY_MODEL_82d7afe3b71e48c7ac34c2cce098fcec"
      }
     },
     "99e902648eeb439a994a3388b07c5de3": {
      "model_module": "@jupyter-widgets/controls",
      "model_module_version": "1.4.0",
      "model_name": "DropdownModel",
      "state": {
       "_options_labels": [
        "40-100%",
        "10-40%",
        "0-10%",
        "N/A"
       ],
       "description": "AGS: north-facing slopes; valleys; depressions",
       "index": 2,
       "layout": "IPY_MODEL_4badf23ff4b54c3e9b2f7e47e2b5d911",
       "style": "IPY_MODEL_2c5c2a0a4a204b6f8618a5c9da71de36"
      }
     },
     "9a16b66fec2d4d4cbd30eeb5e78f5a68": {
      "model_module": "@jupyter-widgets/controls",
      "model_module_version": "1.4.0",
      "model_name": "BoundedIntTextModel",
      "state": {
       "description": "% threshold of herbaceous cover",
       "layout": "IPY_MODEL_6d7077f8688f4b4199ce3b625da987cb",
       "step": 10,
       "style": "IPY_MODEL_a8f8ce77c76d4bdaaecb5a52087d3ff2",
       "value": 20
      }
     },
     "9f1df28d40514752bf020fe59414d7ec": {
      "model_module": "@jupyter-widgets/controls",
      "model_module_version": "1.4.0",
      "model_name": "ButtonStyleModel",
      "state": {
       "button_color": "orange"
      }
     },
     "a0290d27d5bc4ef8921105e4078c75b7": {
      "model_module": "@jupyter-widgets/base",
      "model_module_version": "1.1.0",
      "model_name": "LayoutModel",
      "state": {}
     },
     "a5a10015c79340cc88a70e502c13268a": {
      "model_module": "@jupyter-widgets/controls",
      "model_module_version": "1.4.0",
      "model_name": "ButtonStyleModel",
      "state": {
       "button_color": "orange"
      }
     },
     "a724fa1502414cbc8046bf5b470572b0": {
      "model_module": "@jupyter-widgets/controls",
      "model_module_version": "1.4.0",
      "model_name": "DescriptionStyleModel",
      "state": {
       "description_width": ""
      }
     },
     "a8f8ce77c76d4bdaaecb5a52087d3ff2": {
      "model_module": "@jupyter-widgets/controls",
      "model_module_version": "1.4.0",
      "model_name": "DescriptionStyleModel",
      "state": {
       "description_width": "200px"
      }
     },
     "a8fe6144676849b38237d6e910ffd058": {
      "model_module": "@jupyter-widgets/controls",
      "model_module_version": "1.4.0",
      "model_name": "ButtonModel",
      "state": {
       "description": "Download output data",
       "layout": "IPY_MODEL_22c8f7eb53fd4e7794839d9c0c1ea256",
       "style": "IPY_MODEL_8fed558fccbd4ae08bfd9cc53a569719"
      }
     },
     "a9cf6a6ed3ec4f28942da0e2bbcb2d57": {
      "model_module": "@jupyter-widgets/controls",
      "model_module_version": "1.4.0",
      "model_name": "DescriptionStyleModel",
      "state": {
       "description_width": "300px"
      }
     },
     "adcdaedc71824293b0082e82ab28701b": {
      "model_module": "@jupyter-widgets/base",
      "model_module_version": "1.1.0",
      "model_name": "LayoutModel",
      "state": {}
     },
     "af27b21ccce144388c36c9fb5574e2f0": {
      "model_module": "@jupyter-widgets/controls",
      "model_module_version": "1.4.0",
      "model_name": "DescriptionStyleModel",
      "state": {
       "description_width": "200px"
      }
     },
     "b247c132cca54343844cd3c216f9e02b": {
      "model_module": "@jupyter-widgets/controls",
      "model_module_version": "1.4.0",
      "model_name": "ButtonStyleModel",
      "state": {
       "button_color": "orange"
      }
     },
     "b39393730b2448ddad169c8a7c5e475a": {
      "model_module": "@jupyter-widgets/base",
      "model_module_version": "1.1.0",
      "model_name": "LayoutModel",
      "state": {}
     },
     "be4f426830fa457daae6809b1670d79b": {
      "model_module": "@jupyter-widgets/controls",
      "model_module_version": "1.4.0",
      "model_name": "BoundedIntTextModel",
      "state": {
       "description": "Number of months in previous 12 months with moderate or extreme PDSI ",
       "layout": "IPY_MODEL_fc5a88affd504312b9e344db3d4bb68a",
       "max": 12,
       "style": "IPY_MODEL_75cce982115b4ddfbbe9053c569a254c",
       "value": 6
      }
     },
     "c52f1f9fb90a4402afa087594342867d": {
      "model_module": "@jupyter-widgets/base",
      "model_module_version": "1.1.0",
      "model_name": "LayoutModel",
      "state": {}
     },
     "c91d28f871e7464eb8f30995b4aa1314": {
      "model_module": "@jupyter-widgets/controls",
      "model_module_version": "1.4.0",
      "model_name": "DescriptionStyleModel",
      "state": {
       "description_width": "200px"
      }
     },
     "caea586a9dad4750a1afaffe2f4dc3ba": {
      "model_module": "@jupyter-widgets/controls",
      "model_module_version": "1.4.0",
      "model_name": "ButtonModel",
      "state": {
       "description": "Select File",
       "icon": "square-o",
       "layout": "IPY_MODEL_1ed68af2d64947caaff32e5633ffa163",
       "style": "IPY_MODEL_9f1df28d40514752bf020fe59414d7ec"
      }
     },
     "cd898374a9cd408b96fc940b871a924e": {
      "model_module": "@jupyter-widgets/controls",
      "model_module_version": "1.4.0",
      "model_name": "HTMLModel",
      "state": {
       "layout": "IPY_MODEL_adcdaedc71824293b0082e82ab28701b",
       "style": "IPY_MODEL_d9ed10b073af4665a8f05686824890d1",
       "value": "<div style=\"color: blue; font-size: 1.2em; line-height: 110%\"; ><ul><li>Drought conditions post-fire can affect the ability of seeds to germinate and also the survival of seedlings, so it is critical consideration for the recovery of seeder species</li><li>Again, we link to data for the South Coast Ecoregion on the Palmer Drought Severity Index and determine how many months out of the 12 months after the start of the fire were &lsquo;severe&rsquo; or &lsquo;extreme&rsquo; drought </li><li>The tool is able to consider drought conditions for up to 3 years post-fire, but the tool can still be run if there are only data on year 1 and 2 post-fire</li></ul></div>"
      }
     },
     "cd8ea41d623b484a870bde4dffd682d0": {
      "model_module": "@jupyter-widgets/controls",
      "model_module_version": "1.4.0",
      "model_name": "GridBoxModel",
      "state": {
       "children": [
        "IPY_MODEL_22618b60e0614f0abf64313720b3bd58",
        "IPY_MODEL_cd898374a9cd408b96fc940b871a924e",
        "IPY_MODEL_943da1638df94d8f8d0670b00b7d2934",
        "IPY_MODEL_44931ae6835744fdb1b0c4a0c1c872d0",
        "IPY_MODEL_1b8002fdfcc743e5adb68ec75e9f591c",
        "IPY_MODEL_d854ce48026a4c0a9cf8d63947ab6525",
        "IPY_MODEL_e519f3ea4a2941e295f44cc21b84c941"
       ],
       "layout": "IPY_MODEL_67366cac19234536aba27ee4be4016b2"
      }
     },
     "ced7ce95660e4d45b40ef99e7455159a": {
      "model_module": "@jupyter-widgets/controls",
      "model_module_version": "1.4.0",
      "model_name": "ButtonStyleModel",
      "state": {
       "button_color": "#D4D4D4"
      }
     },
     "d03dcd7e53914a4cb8eacd2327997c41": {
      "model_module": "@jupyter-widgets/controls",
      "model_module_version": "1.4.0",
      "model_name": "DescriptionStyleModel",
      "state": {
       "description_width": ""
      }
     },
     "d7bdc5a0cc1c44968bfba852e27c91bf": {
      "model_module": "@jupyter-widgets/base",
      "model_module_version": "1.1.0",
      "model_name": "LayoutModel",
      "state": {
       "height": "100px",
       "width": "50%"
      }
     },
     "d854ce48026a4c0a9cf8d63947ab6525": {
      "model_module": "@jupyter-widgets/controls",
      "model_module_version": "1.4.0",
      "model_name": "DropdownModel",
      "state": {
       "_options_labels": [
        "None",
        "Moderate",
        "Severe",
        "Extreme"
       ],
       "description": "Post-fire year 2: Drought status >=6 months",
       "index": 1,
       "layout": "IPY_MODEL_5f427619234d4943853fd424b6a5fe26",
       "style": "IPY_MODEL_af27b21ccce144388c36c9fb5574e2f0"
      }
     },
     "d9ed10b073af4665a8f05686824890d1": {
      "model_module": "@jupyter-widgets/controls",
      "model_module_version": "1.4.0",
      "model_name": "DescriptionStyleModel",
      "state": {
       "description_width": ""
      }
     },
     "da4cc1aba3c74f379a170f08e1395d70": {
      "model_module": "@jupyter-widgets/controls",
      "model_module_version": "1.4.0",
      "model_name": "HTMLModel",
      "state": {
       "layout": "IPY_MODEL_5c2b0d03840246fd83cda8261acf8885",
       "style": "IPY_MODEL_2a29d6675a07444f8f98a09c5db0fa69",
       "value": "<div style=\"font-size: 1.2em; font-weight: normal; line-height: 100%\">Link to: <a href='https://www.ncdc.noaa.gov/temp-and-precip/drought/historical-palmers'>NOAA Palmer Drought Severity Index</a> website and enter the &lsquo;start year&rsquo; and &lsquo;start month&rsquo; (12 months before the fire start date) and the &lsquo;end year&rsquo; and &lsquo;end month&rsquo;.  Record the number of months that the South Coast ecoregion is shown as &lsquo;moderate&rsquo; (&lt;-3PDSI )or &lsquo;extreme&rsquo; (&lt;-4 PDSI)</div>"
      }
     },
     "dfe218015be24b71a85392fd7bb6df6a": {
      "model_module": "@jupyter-widgets/base",
      "model_module_version": "1.1.0",
      "model_name": "LayoutModel",
      "state": {}
     },
     "e157fe7cc048483b87693ae254f31dc6": {
      "model_module": "@jupyter-widgets/controls",
      "model_module_version": "1.4.0",
      "model_name": "DropdownModel",
      "state": {
       "_options_labels": [
        "40-100%",
        "10-40%",
        "0-10%",
        "N/A"
       ],
       "description": "Other: south-facing slopes; summits; ridges",
       "index": 3,
       "layout": "IPY_MODEL_4badf23ff4b54c3e9b2f7e47e2b5d911",
       "style": "IPY_MODEL_08b39e572d704861a31fdb451b4ef99d"
      }
     },
     "e3181515e3454183b32a94cbe0c11aa5": {
      "model_module": "@jupyter-widgets/base",
      "model_module_version": "1.1.0",
      "model_name": "LayoutModel",
      "state": {}
     },
     "e519f3ea4a2941e295f44cc21b84c941": {
      "model_module": "@jupyter-widgets/controls",
      "model_module_version": "1.4.0",
      "model_name": "DropdownModel",
      "state": {
       "_options_labels": [
        "None",
        "Moderate",
        "Severe",
        "Extreme"
       ],
       "description": "Post-fire year 3: Drought status >=6 months",
       "index": 1,
       "layout": "IPY_MODEL_499eb6d1823945569e6b1e342a8eadcf",
       "style": "IPY_MODEL_c91d28f871e7464eb8f30995b4aa1314"
      }
     },
     "ed4c1716f3204b24af6ff4bd8edb0dc0": {
      "model_module": "@jupyter-widgets/controls",
      "model_module_version": "1.4.0",
      "model_name": "DropdownModel",
      "state": {
       "_options_labels": [
        "40-100%",
        "10-40%",
        "0-10%",
        "N/A"
       ],
       "description": "AGS: south-facing slopes; summits; ridges",
       "index": 3,
       "layout": "IPY_MODEL_4badf23ff4b54c3e9b2f7e47e2b5d911",
       "style": "IPY_MODEL_eea40cc4c2e14c0c8d180da750bf5de0"
      }
     },
     "edd3139a6525470e9c39dcfe97b3ad99": {
      "model_module": "@jupyter-widgets/base",
      "model_module_version": "1.1.0",
      "model_name": "LayoutModel",
      "state": {
       "grid_gap": "20px 10px",
       "grid_template_areas": "\n                                    \". upwgt_t1\"\n                                    \". upwgt_t2\"\n                                    \"upwgt_t3 uploadwgt1\"\n                                    \"upwgt_t4 uploadwgt2\"\n                                    \"upwgt_t5 uploadwgt3\"\n                                    \"upwgt_t6 uploadwgt4\"\n                                    ",
       "grid_template_columns": "20% 30%",
       "grid_template_rows": "auto auto auto auto auto auto"
      }
     },
     "eea40cc4c2e14c0c8d180da750bf5de0": {
      "model_module": "@jupyter-widgets/controls",
      "model_module_version": "1.4.0",
      "model_name": "DescriptionStyleModel",
      "state": {
       "description_width": "300px"
      }
     },
     "f2121596d51d48fd8abc4119ff885ac6": {
      "model_module": "@jupyter-widgets/controls",
      "model_module_version": "1.4.0",
      "model_name": "DescriptionStyleModel",
      "state": {
       "description_width": "300px"
      }
     },
     "f53645618cea421cb2f545586d348f28": {
      "model_module": "@jupyter-widgets/controls",
      "model_module_version": "1.4.0",
      "model_name": "DropdownModel",
      "state": {
       "_options_labels": [
        "40-100%",
        "10-40%",
        "0-10%",
        "N/A"
       ],
       "description": "MCH: north-facing slopes; valleys; depressions",
       "index": 0,
       "layout": "IPY_MODEL_4badf23ff4b54c3e9b2f7e47e2b5d911",
       "style": "IPY_MODEL_5dd3e57f936541a4bce274aa33900c5c"
      }
     },
     "f852baa05be845dfb768889d22bd1fee": {
      "model_module": "@jupyter-widgets/controls",
      "model_module_version": "1.4.0",
      "model_name": "HTMLModel",
      "state": {
       "layout": "IPY_MODEL_2828c85ebbad4b8c876790005c298c13",
       "style": "IPY_MODEL_a724fa1502414cbc8046bf5b470572b0",
       "value": "<div style=\"font-style: italic; color: #4057A9; font-size: 1.1em; line-height: 100%\"> Rasters must be coregistered geotiffs all having the same resolution</div>"
      }
     },
     "fa9dae78209a43599d9ff26608df4004": {
      "model_module": "@jupyter-widgets/controls",
      "model_module_version": "1.4.0",
      "model_name": "ButtonModel",
      "state": {
       "description": "Select File",
       "icon": "square-o",
       "layout": "IPY_MODEL_dfe218015be24b71a85392fd7bb6df6a",
       "style": "IPY_MODEL_a5a10015c79340cc88a70e502c13268a"
      }
     },
     "fc5a88affd504312b9e344db3d4bb68a": {
      "model_module": "@jupyter-widgets/base",
      "model_module_version": "1.1.0",
      "model_name": "LayoutModel",
      "state": {}
     },
     "fe144c681ab747caaaec262b3b3229d0": {
      "model_module": "@jupyter-widgets/controls",
      "model_module_version": "1.4.0",
      "model_name": "VBoxModel",
      "state": {
       "children": [
        "IPY_MODEL_ed4c1716f3204b24af6ff4bd8edb0dc0",
        "IPY_MODEL_99e902648eeb439a994a3388b07c5de3",
        "IPY_MODEL_6b361aa7221c46a388279c8d891f1729",
        "IPY_MODEL_40f7064b908e4056841ef9ac5eb813ed",
        "IPY_MODEL_7f6926fcf2574b4c8bdefe14532a7bef",
        "IPY_MODEL_f53645618cea421cb2f545586d348f28",
        "IPY_MODEL_356b490c7f7649ae87557b827c430b64",
        "IPY_MODEL_7374b898b7b04034b8d4a9bd522d0164",
        "IPY_MODEL_09c9f495d4754a80b6eb80879fc93083",
        "IPY_MODEL_7b137d79501f42068a2fde3480123475",
        "IPY_MODEL_6392dc438f2c438a98a4cc9795bf31ee",
        "IPY_MODEL_e157fe7cc048483b87693ae254f31dc6"
       ],
       "layout": "IPY_MODEL_01ca3a6c627942879254db1786096a54"
      }
     }
    },
    "version_major": 2,
    "version_minor": 0
   }
  }
 },
 "nbformat": 4,
 "nbformat_minor": 2
}
