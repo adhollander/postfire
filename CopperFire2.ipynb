{
 "cells": [
  {
   "cell_type": "markdown",
   "metadata": {},
   "source": [
    "## Postfire Restoration Tool\n",
    "\n",
    "We are developing this tool using a Jupyter notebook framework. Jupyter has become an extremely important platform for creating reproducible and interactive workflows for scientific computations, and is a good fit for our project since we are in the continual process of refining our model of postfire restoration. The Python backend will allow for integration with a variety of platforms.\n",
    "\n",
    "Our logic at present is to develop a potential regeneration score that applies across a species community, after computing scores for each species singly."
   ]
  },
  {
   "cell_type": "markdown",
   "metadata": {},
   "source": [
    "### Step 0 - Preliminaries"
   ]
  },
  {
   "cell_type": "markdown",
   "metadata": {},
   "source": [
    "#### Read in species table\n",
    "\n",
    "The first step is to read in a table of the species-by-species trait characteristics."
   ]
  },
  {
   "cell_type": "code",
   "execution_count": 1,
   "metadata": {},
   "outputs": [],
   "source": [
    "import pandas as pd\n",
    "import numpy as np"
   ]
  },
  {
   "cell_type": "code",
   "execution_count": 2,
   "metadata": {},
   "outputs": [],
   "source": [
    "import rasterio.plot\n",
    "import pyproj\n",
    "import numpy as np\n",
    "import matplotlib\n",
    "import matplotlib.pyplot as plt"
   ]
  },
  {
   "cell_type": "code",
   "execution_count": 3,
   "metadata": {},
   "outputs": [
    {
     "data": {
      "text/html": [
       "<div>\n",
       "<style scoped>\n",
       "    .dataframe tbody tr th:only-of-type {\n",
       "        vertical-align: middle;\n",
       "    }\n",
       "\n",
       "    .dataframe tbody tr th {\n",
       "        vertical-align: top;\n",
       "    }\n",
       "\n",
       "    .dataframe thead th {\n",
       "        text-align: right;\n",
       "    }\n",
       "</style>\n",
       "<table border=\"1\" class=\"dataframe\">\n",
       "  <thead>\n",
       "    <tr style=\"text-align: right;\">\n",
       "      <th></th>\n",
       "      <th>Species</th>\n",
       "      <th>PreferredAspect</th>\n",
       "      <th>FunctionalGroup</th>\n",
       "      <th>PreferredTopography</th>\n",
       "      <th>GrowthRateScore</th>\n",
       "      <th>RecruitmentScore</th>\n",
       "      <th>FireCountThreshold</th>\n",
       "      <th>FRITooFrequent</th>\n",
       "      <th>FireSeverityLowMod</th>\n",
       "      <th>FireSeverityHigh</th>\n",
       "      <th>Drought1stYr</th>\n",
       "      <th>Drought2ndYr</th>\n",
       "      <th>NonNatives</th>\n",
       "    </tr>\n",
       "  </thead>\n",
       "  <tbody>\n",
       "    <tr>\n",
       "      <th>0</th>\n",
       "      <td>Arctostaphylos glauca</td>\n",
       "      <td>variety</td>\n",
       "      <td>seeder</td>\n",
       "      <td>not steep</td>\n",
       "      <td>35</td>\n",
       "      <td>35</td>\n",
       "      <td>1</td>\n",
       "      <td>-80</td>\n",
       "      <td>80</td>\n",
       "      <td>80</td>\n",
       "      <td>50</td>\n",
       "      <td>20</td>\n",
       "      <td>50</td>\n",
       "    </tr>\n",
       "    <tr>\n",
       "      <th>1</th>\n",
       "      <td>Acmispon glaber</td>\n",
       "      <td>variety</td>\n",
       "      <td>seeder</td>\n",
       "      <td>not steep</td>\n",
       "      <td>80</td>\n",
       "      <td>50</td>\n",
       "      <td>3</td>\n",
       "      <td>-80</td>\n",
       "      <td>80</td>\n",
       "      <td>50</td>\n",
       "      <td>80</td>\n",
       "      <td>20</td>\n",
       "      <td>50</td>\n",
       "    </tr>\n",
       "    <tr>\n",
       "      <th>2</th>\n",
       "      <td>Ceanothus vestitus</td>\n",
       "      <td>N</td>\n",
       "      <td>seeder</td>\n",
       "      <td>not steep</td>\n",
       "      <td>80</td>\n",
       "      <td>50</td>\n",
       "      <td>1</td>\n",
       "      <td>-80</td>\n",
       "      <td>50</td>\n",
       "      <td>80</td>\n",
       "      <td>80</td>\n",
       "      <td>20</td>\n",
       "      <td>20</td>\n",
       "    </tr>\n",
       "    <tr>\n",
       "      <th>3</th>\n",
       "      <td>Ceanothus cuneatus</td>\n",
       "      <td>variety</td>\n",
       "      <td>seeder</td>\n",
       "      <td>not steep</td>\n",
       "      <td>75</td>\n",
       "      <td>50</td>\n",
       "      <td>1</td>\n",
       "      <td>-80</td>\n",
       "      <td>50</td>\n",
       "      <td>80</td>\n",
       "      <td>80</td>\n",
       "      <td>20</td>\n",
       "      <td>50</td>\n",
       "    </tr>\n",
       "    <tr>\n",
       "      <th>4</th>\n",
       "      <td>Ceanothus crassifolius</td>\n",
       "      <td>S</td>\n",
       "      <td>seeder</td>\n",
       "      <td>not steep</td>\n",
       "      <td>20</td>\n",
       "      <td>50</td>\n",
       "      <td>5</td>\n",
       "      <td>-80</td>\n",
       "      <td>50</td>\n",
       "      <td>80</td>\n",
       "      <td>50</td>\n",
       "      <td>20</td>\n",
       "      <td>50</td>\n",
       "    </tr>\n",
       "    <tr>\n",
       "      <th>5</th>\n",
       "      <td>Adenostoma fasciculatum</td>\n",
       "      <td>S</td>\n",
       "      <td>facultative seeder</td>\n",
       "      <td>not steep</td>\n",
       "      <td>20</td>\n",
       "      <td>50</td>\n",
       "      <td>2</td>\n",
       "      <td>-80</td>\n",
       "      <td>75</td>\n",
       "      <td>35</td>\n",
       "      <td>75</td>\n",
       "      <td>20</td>\n",
       "      <td>80</td>\n",
       "    </tr>\n",
       "    <tr>\n",
       "      <th>6</th>\n",
       "      <td>Salvia mellifera</td>\n",
       "      <td>variety</td>\n",
       "      <td>facultative seeder</td>\n",
       "      <td>not steep</td>\n",
       "      <td>50</td>\n",
       "      <td>50</td>\n",
       "      <td>2</td>\n",
       "      <td>-50</td>\n",
       "      <td>80</td>\n",
       "      <td>50</td>\n",
       "      <td>50</td>\n",
       "      <td>20</td>\n",
       "      <td>75</td>\n",
       "    </tr>\n",
       "    <tr>\n",
       "      <th>7</th>\n",
       "      <td>Eriodictyon crassifolium</td>\n",
       "      <td>S</td>\n",
       "      <td>facultative seeder</td>\n",
       "      <td>not steep</td>\n",
       "      <td>75</td>\n",
       "      <td>50</td>\n",
       "      <td>2</td>\n",
       "      <td>-50</td>\n",
       "      <td>75</td>\n",
       "      <td>20</td>\n",
       "      <td>80</td>\n",
       "      <td>20</td>\n",
       "      <td>80</td>\n",
       "    </tr>\n",
       "    <tr>\n",
       "      <th>8</th>\n",
       "      <td>Eriogonum fasciculatum</td>\n",
       "      <td>S</td>\n",
       "      <td>facultative seeder</td>\n",
       "      <td>not steep</td>\n",
       "      <td>50</td>\n",
       "      <td>35</td>\n",
       "      <td>2</td>\n",
       "      <td>-75</td>\n",
       "      <td>75</td>\n",
       "      <td>50</td>\n",
       "      <td>80</td>\n",
       "      <td>20</td>\n",
       "      <td>35</td>\n",
       "    </tr>\n",
       "    <tr>\n",
       "      <th>9</th>\n",
       "      <td>Artemisia californica</td>\n",
       "      <td>N</td>\n",
       "      <td>facultative seeder</td>\n",
       "      <td>steep slopes</td>\n",
       "      <td>80</td>\n",
       "      <td>35</td>\n",
       "      <td>1</td>\n",
       "      <td>-80</td>\n",
       "      <td>50</td>\n",
       "      <td>20</td>\n",
       "      <td>75</td>\n",
       "      <td>20</td>\n",
       "      <td>35</td>\n",
       "    </tr>\n",
       "    <tr>\n",
       "      <th>10</th>\n",
       "      <td>Ceanothus leucodermis</td>\n",
       "      <td>S</td>\n",
       "      <td>facultative seeder</td>\n",
       "      <td>steep slopes</td>\n",
       "      <td>80</td>\n",
       "      <td>50</td>\n",
       "      <td>2</td>\n",
       "      <td>-80</td>\n",
       "      <td>75</td>\n",
       "      <td>80</td>\n",
       "      <td>20</td>\n",
       "      <td>20</td>\n",
       "      <td>20</td>\n",
       "    </tr>\n",
       "    <tr>\n",
       "      <th>11</th>\n",
       "      <td>Malacothamnus fasciculatus</td>\n",
       "      <td>variety</td>\n",
       "      <td>facultative seeder</td>\n",
       "      <td>steep slopes</td>\n",
       "      <td>80</td>\n",
       "      <td>50</td>\n",
       "      <td>2</td>\n",
       "      <td>-80</td>\n",
       "      <td>80</td>\n",
       "      <td>50</td>\n",
       "      <td>80</td>\n",
       "      <td>20</td>\n",
       "      <td>50</td>\n",
       "    </tr>\n",
       "    <tr>\n",
       "      <th>12</th>\n",
       "      <td>Cercocarpus betuloides</td>\n",
       "      <td>variety</td>\n",
       "      <td>sprouter</td>\n",
       "      <td>steep slopes</td>\n",
       "      <td>75</td>\n",
       "      <td>20</td>\n",
       "      <td>1</td>\n",
       "      <td>-50</td>\n",
       "      <td>80</td>\n",
       "      <td>80</td>\n",
       "      <td>50</td>\n",
       "      <td>20</td>\n",
       "      <td>80</td>\n",
       "    </tr>\n",
       "    <tr>\n",
       "      <th>13</th>\n",
       "      <td>Quercus berberidifolia</td>\n",
       "      <td>N</td>\n",
       "      <td>sprouter</td>\n",
       "      <td>steep slopes</td>\n",
       "      <td>20</td>\n",
       "      <td>50</td>\n",
       "      <td>1</td>\n",
       "      <td>-50</td>\n",
       "      <td>80</td>\n",
       "      <td>80</td>\n",
       "      <td>80</td>\n",
       "      <td>35</td>\n",
       "      <td>80</td>\n",
       "    </tr>\n",
       "    <tr>\n",
       "      <th>14</th>\n",
       "      <td>Hesperoyucca whipplei</td>\n",
       "      <td>S</td>\n",
       "      <td>sprouter</td>\n",
       "      <td>not steep</td>\n",
       "      <td>50</td>\n",
       "      <td>50</td>\n",
       "      <td>2</td>\n",
       "      <td>-50</td>\n",
       "      <td>80</td>\n",
       "      <td>80</td>\n",
       "      <td>80</td>\n",
       "      <td>35</td>\n",
       "      <td>80</td>\n",
       "    </tr>\n",
       "    <tr>\n",
       "      <th>15</th>\n",
       "      <td>Prunus ilicifolia</td>\n",
       "      <td>N</td>\n",
       "      <td>sprouter</td>\n",
       "      <td>steep slopes</td>\n",
       "      <td>75</td>\n",
       "      <td>50</td>\n",
       "      <td>1</td>\n",
       "      <td>-50</td>\n",
       "      <td>80</td>\n",
       "      <td>80</td>\n",
       "      <td>50</td>\n",
       "      <td>35</td>\n",
       "      <td>80</td>\n",
       "    </tr>\n",
       "    <tr>\n",
       "      <th>16</th>\n",
       "      <td>Rhamnus ilicifolia</td>\n",
       "      <td>variety</td>\n",
       "      <td>sprouter</td>\n",
       "      <td>not steep</td>\n",
       "      <td>20</td>\n",
       "      <td>50</td>\n",
       "      <td>2</td>\n",
       "      <td>-50</td>\n",
       "      <td>50</td>\n",
       "      <td>50</td>\n",
       "      <td>50</td>\n",
       "      <td>35</td>\n",
       "      <td>80</td>\n",
       "    </tr>\n",
       "  </tbody>\n",
       "</table>\n",
       "</div>"
      ],
      "text/plain": [
       "                       Species PreferredAspect     FunctionalGroup  \\\n",
       "0        Arctostaphylos glauca         variety              seeder   \n",
       "1              Acmispon glaber         variety              seeder   \n",
       "2           Ceanothus vestitus               N              seeder   \n",
       "3           Ceanothus cuneatus         variety              seeder   \n",
       "4       Ceanothus crassifolius               S              seeder   \n",
       "5      Adenostoma fasciculatum               S  facultative seeder   \n",
       "6             Salvia mellifera         variety  facultative seeder   \n",
       "7     Eriodictyon crassifolium               S  facultative seeder   \n",
       "8       Eriogonum fasciculatum             S    facultative seeder   \n",
       "9        Artemisia californica               N  facultative seeder   \n",
       "10       Ceanothus leucodermis               S  facultative seeder   \n",
       "11  Malacothamnus fasciculatus         variety  facultative seeder   \n",
       "12      Cercocarpus betuloides         variety            sprouter   \n",
       "13      Quercus berberidifolia               N            sprouter   \n",
       "14      Hesperoyucca whipplei                S            sprouter   \n",
       "15           Prunus ilicifolia               N            sprouter   \n",
       "16          Rhamnus ilicifolia         variety            sprouter   \n",
       "\n",
       "   PreferredTopography  GrowthRateScore  RecruitmentScore  FireCountThreshold  \\\n",
       "0            not steep               35                35                   1   \n",
       "1            not steep               80                50                   3   \n",
       "2            not steep               80                50                   1   \n",
       "3            not steep               75                50                   1   \n",
       "4            not steep               20                50                   5   \n",
       "5            not steep               20                50                   2   \n",
       "6            not steep               50                50                   2   \n",
       "7            not steep               75                50                   2   \n",
       "8            not steep               50                35                   2   \n",
       "9        steep slopes                80                35                   1   \n",
       "10        steep slopes               80                50                   2   \n",
       "11        steep slopes               80                50                   2   \n",
       "12        steep slopes               75                20                   1   \n",
       "13        steep slopes               20                50                   1   \n",
       "14           not steep               50                50                   2   \n",
       "15        steep slopes               75                50                   1   \n",
       "16           not steep               20                50                   2   \n",
       "\n",
       "    FRITooFrequent  FireSeverityLowMod  FireSeverityHigh  Drought1stYr  \\\n",
       "0              -80                  80                80            50   \n",
       "1              -80                  80                50            80   \n",
       "2              -80                  50                80            80   \n",
       "3              -80                  50                80            80   \n",
       "4              -80                  50                80            50   \n",
       "5              -80                  75                35            75   \n",
       "6              -50                  80                50            50   \n",
       "7              -50                  75                20            80   \n",
       "8              -75                  75                50            80   \n",
       "9              -80                  50                20            75   \n",
       "10             -80                  75                80            20   \n",
       "11             -80                  80                50            80   \n",
       "12             -50                  80                80            50   \n",
       "13             -50                  80                80            80   \n",
       "14             -50                  80                80            80   \n",
       "15             -50                  80                80            50   \n",
       "16             -50                  50                50            50   \n",
       "\n",
       "    Drought2ndYr  NonNatives  \n",
       "0             20          50  \n",
       "1             20          50  \n",
       "2             20          20  \n",
       "3             20          50  \n",
       "4             20          50  \n",
       "5             20          80  \n",
       "6             20          75  \n",
       "7             20          80  \n",
       "8             20          35  \n",
       "9             20          35  \n",
       "10            20          20  \n",
       "11            20          50  \n",
       "12            20          80  \n",
       "13            35          80  \n",
       "14            35          80  \n",
       "15            35          80  \n",
       "16            35          80  "
      ]
     },
     "execution_count": 3,
     "metadata": {},
     "output_type": "execute_result"
    }
   ],
   "source": [
    "traits1 = pd.read_csv(\"./datasets/SpeciesTableSummary1.csv\")\n",
    "traits1"
   ]
  },
  {
   "cell_type": "markdown",
   "metadata": {},
   "source": [
    "#### Species inputs\n",
    "\n",
    "One of our inputs will be lists of species in each ecological unit grouping, with approximate cover rankings. We will use this coding for the cover rankings:\n",
    "\n",
    "|Cover interval|Cover code|\n",
    "--------------------|--------------------\n",
    "|60%-100%|3|\n",
    "|30%-60%|2|\n",
    "|0-30%|1|\n",
    "\n",
    "Coding these breaks into Python:"
   ]
  },
  {
   "cell_type": "code",
   "execution_count": 4,
   "metadata": {},
   "outputs": [],
   "source": [
    "coverbreaks = [.15, .45, .8]"
   ]
  },
  {
   "cell_type": "markdown",
   "metadata": {},
   "source": [
    "Here's a sample species list:"
   ]
  },
  {
   "cell_type": "code",
   "execution_count": 5,
   "metadata": {},
   "outputs": [],
   "source": [
    "specieslist1 = [['Adenostoma fasciculatum', 3], ['Ceanothus cuneatus', 1], ['Salvia mellifera', 1]]"
   ]
  },
  {
   "cell_type": "markdown",
   "metadata": {},
   "source": [
    "\n",
    "### Determine a potential regeneration score for a single species based on environmental conditions"
   ]
  },
  {
   "cell_type": "code",
   "execution_count": 6,
   "metadata": {},
   "outputs": [],
   "source": [
    "# Species Step 1 weighting\n",
    "# take species name, the aspect of the terrain, whether steep or not, and number of fires,\n",
    "# and output a score for potential regeneration. \n",
    "def speciesstep1(specname, aspect, topography, firecount):\n",
    "    specrow = traits1.loc[traits1['Species']==specname]\n",
    "    prefaspect = specrow['PreferredAspect'].iloc[0]\n",
    "    preftopo = specrow['PreferredTopography'].iloc[0]\n",
    "    maxfire = specrow['FireCountThreshold'].iloc[0]\n",
    "    functionalgroup = specrow['FunctionalGroup'].iloc[0]\n",
    "    # let's start our scoring based on the functional group of the species\n",
    "    if(functionalgroup == 'sprouters'):\n",
    "        startval = 80\n",
    "    else: # it's a seeder or facultative seeder\n",
    "        startval = 50\n",
    "    if(prefaspect == aspect):\n",
    "        startval += 20\n",
    "    if(preftopo == topography):\n",
    "        startval += 20\n",
    "    if(firecount >= maxfire):\n",
    "        startval -= 40\n",
    "    \n",
    "    return startval\n",
    "    "
   ]
  },
  {
   "cell_type": "markdown",
   "metadata": {},
   "source": [
    "#### A couple of example queries  \n",
    "\n",
    "Here we are looking at the potential regeneration for a single species under a particular aspect, slope, and number of previous fires. The idea is that this query will be made on a pixel-by-pixel basis."
   ]
  },
  {
   "cell_type": "code",
   "execution_count": 7,
   "metadata": {},
   "outputs": [
    {
     "data": {
      "text/plain": [
       "50"
      ]
     },
     "execution_count": 7,
     "metadata": {},
     "output_type": "execute_result"
    }
   ],
   "source": [
    "# What is the potential regeneration for Adenostema fasciculatum on north-facing steep slopes with only 1 fire in\n",
    "# the past 40 years?\n",
    "speciesstep1('Adenostoma fasciculatum', 'N', 'steep slopes', 1) "
   ]
  },
  {
   "cell_type": "code",
   "execution_count": 8,
   "metadata": {
    "scrolled": true
   },
   "outputs": [
    {
     "data": {
      "text/plain": [
       "10"
      ]
     },
     "execution_count": 8,
     "metadata": {},
     "output_type": "execute_result"
    }
   ],
   "source": [
    "# What is the potential regeneration for Prunus ilicifolia on not-so-steep south-facing slopes with 3 fires in\n",
    "# the past 40 years?\n",
    "speciesstep1('Prunus ilicifolia', 'S', 'not steep', 3)"
   ]
  },
  {
   "cell_type": "markdown",
   "metadata": {},
   "source": [
    "### Determine a potential regeneration score for a single species based on inherent species traits\n",
    "\n",
    "We combine the attributes of growth rate and recruitment rate here. "
   ]
  },
  {
   "cell_type": "code",
   "execution_count": 9,
   "metadata": {},
   "outputs": [],
   "source": [
    "# Species Step 1 weighting by growth and recruitment rate\n",
    "\n",
    "def speciessteptraits1(specname):\n",
    "    specrow = traits1.loc[traits1['Species']==specname]\n",
    "    growthrate = specrow['GrowthRateScore'].iloc[0]\n",
    "    recruit = specrow['RecruitmentScore'].iloc[0]\n",
    "    startval = (growthrate + recruit)/2\n",
    "    \n",
    "    return startval"
   ]
  },
  {
   "cell_type": "markdown",
   "metadata": {},
   "source": [
    "### Combine the scores from each species using a weighted average in the species groups\n",
    "\n",
    "I am averaging the score from the growth and recruitment rate together with the score from the environmental conditions."
   ]
  },
  {
   "cell_type": "code",
   "execution_count": 10,
   "metadata": {},
   "outputs": [],
   "source": [
    "def specgroupstep1(specgroup, aspect, topography, firecount):\n",
    "    numspecies = len(specgroup)\n",
    "    speclist = [s[0] for s in specgroup]\n",
    "    speclistscore = [speciesstep1(spec, aspect, topography, firecount) for spec in speclist]\n",
    "    speclisttrait = [speciessteptraits1(spec) for spec in speclist]\n",
    "    coverlevels = [coverbreaks[s[1]-1] for s in specgroup]\n",
    "    #speclistscore = [speciesstep1(speclist[0], aspect, topography, firecount)]\n",
    "    covercross = map(lambda x,y,z:y*(x+z)/2,speclistscore,coverlevels, speclisttrait)\n",
    "    #specgroupscore = sum(covercross)/numspecies \n",
    "    specgroupscore = sum(covercross) # maybe we shouldn't divide here\n",
    "    return specgroupscore"
   ]
  },
  {
   "cell_type": "markdown",
   "metadata": {},
   "source": [
    "#### A couple of example conditions with this species list. (specieslist1)\n",
    "\n",
    "|Species|Cover percentage|\n",
    "|-------|------------|\n",
    "|Adenostema fasciculatum|60-100%|\n",
    "|Ceanothus cuneatus|0-30%|\n",
    "|Salvia mellifera|0-30%|\n",
    "\n",
    "First, with south-facing, not steep slopes and a count of 3 fires in the past 40 years:"
   ]
  },
  {
   "cell_type": "code",
   "execution_count": 11,
   "metadata": {},
   "outputs": [
    {
     "data": {
      "text/plain": [
       "46.9375"
      ]
     },
     "execution_count": 11,
     "metadata": {},
     "output_type": "execute_result"
    }
   ],
   "source": [
    "specgroupstep1(specieslist1, 'S', 'not steep', 3)"
   ]
  },
  {
   "cell_type": "markdown",
   "metadata": {},
   "source": [
    "Next, with south-facing steep slopes and 1 fire in past 40 years."
   ]
  },
  {
   "cell_type": "code",
   "execution_count": 12,
   "metadata": {},
   "outputs": [
    {
     "data": {
      "text/plain": [
       "54.9375"
      ]
     },
     "execution_count": 12,
     "metadata": {},
     "output_type": "execute_result"
    }
   ],
   "source": [
    "specgroupstep1(specieslist1, 'S', 'steep slopes', 1)"
   ]
  },
  {
   "cell_type": "markdown",
   "metadata": {},
   "source": [
    "## Step 1 - Potential regeneration\n",
    "\n",
    "I will show the rasters we are working with below."
   ]
  },
  {
   "cell_type": "markdown",
   "metadata": {},
   "source": [
    "### Count of fires in the 40 years prior to 2002"
   ]
  },
  {
   "cell_type": "code",
   "execution_count": 13,
   "metadata": {},
   "outputs": [],
   "source": [
    "firecount = rasterio.open(\"datasets/firecount1962_2001CFmask.tif\")"
   ]
  },
  {
   "cell_type": "code",
   "execution_count": 14,
   "metadata": {},
   "outputs": [
    {
     "data": {
      "image/png": "[encoded data removed]",
      "text/plain": [
       "<Figure size 432x288 with 1 Axes>"
      ]
     },
     "metadata": {
      "needs_background": "light"
     },
     "output_type": "display_data"
    },
    {
     "data": {
      "text/plain": [
       "<matplotlib.axes._subplots.AxesSubplot at 0x7ff8615cbb70>"
      ]
     },
     "execution_count": 14,
     "metadata": {},
     "output_type": "execute_result"
    }
   ],
   "source": [
    "rasterio.plot.show(firecount,1)"
   ]
  },
  {
   "cell_type": "markdown",
   "metadata": {},
   "source": [
    "### Geomorphons and aspect\n",
    "\n",
    "Geomorphons are a way of describing landscape physiography using a pattern identification algorithm. There are\n",
    "10 geomorphon types in total, namely:\n",
    "\n",
    "-  flats\n",
    "-  summits\n",
    "-  ridges\n",
    "-  shoulders\n",
    "-  spurs\n",
    "-  slopes\n",
    "-  hollows\n",
    "-  footslopes\n",
    "-  valleys\n",
    "-  depressions\n",
    "\n",
    "In the layer displayed below I have lumped hollows, spurs, and slopes together and separated this grouping by north and south aspect. The class coding is as follows:\n",
    "\n",
    "|Class number|Geomorphon Type|\n",
    "|------------|---------------|\n",
    "|1|Flats|\n",
    "|2|Summits|\n",
    "|3|Ridges|\n",
    "|4|Shoulders|\n",
    "|8|Footslopes|\n",
    "|9|Valleys|\n",
    "|10|Depressions|\n",
    "|11|North-facing slopes, spurs, and hollows|\n",
    "|12|South-facing slopes, spurs, and hollows|"
   ]
  },
  {
   "cell_type": "code",
   "execution_count": 15,
   "metadata": {},
   "outputs": [
    {
     "data": {
      "image/png": "[encoded data removed]",
      "text/plain": [
       "<Figure size 432x288 with 1 Axes>"
      ]
     },
     "metadata": {
      "needs_background": "light"
     },
     "output_type": "display_data"
    },
    {
     "data": {
      "text/plain": [
       "<matplotlib.axes._subplots.AxesSubplot at 0x7ff8612af4a8>"
      ]
     },
     "execution_count": 15,
     "metadata": {},
     "output_type": "execute_result"
    }
   ],
   "source": [
    "nsgeomorphon = rasterio.open(\"datasets/nsgeomorphonCFmask.tif\")\n",
    "rasterio.plot.show(nsgeomorphon,1)"
   ]
  },
  {
   "cell_type": "markdown",
   "metadata": {},
   "source": [
    "### Slope"
   ]
  },
  {
   "cell_type": "code",
   "execution_count": 16,
   "metadata": {
    "scrolled": true
   },
   "outputs": [
    {
     "data": {
      "image/png": "[encoded data removed]",
      "text/plain": [
       "<Figure size 432x288 with 1 Axes>"
      ]
     },
     "metadata": {
      "needs_background": "light"
     },
     "output_type": "display_data"
    },
    {
     "data": {
      "text/plain": [
       "<matplotlib.axes._subplots.AxesSubplot at 0x7ff8612a7400>"
      ]
     },
     "execution_count": 16,
     "metadata": {},
     "output_type": "execute_result"
    }
   ],
   "source": [
    "slope = rasterio.open(\"datasets/slopeCFmask.tif\")\n",
    "rasterio.plot.show(slope,1)"
   ]
  },
  {
   "cell_type": "markdown",
   "metadata": {},
   "source": [
    "### Making up some species lists\n",
    "\n",
    "These aren't meant to be real. I'm coming up with assignments of species to the geomorphon-based land classes."
   ]
  },
  {
   "cell_type": "code",
   "execution_count": 17,
   "metadata": {},
   "outputs": [],
   "source": [
    "spececodict = {1: [['Prunus ilicifolia', 2], ['Artemisia californica', 2], ['Eriogonum fasciculatum', 2]],\n",
    "               2: [['Ceanothus leucodermis', 2], ['Ceanothus cuneatus', 2], ['Eriodictyon crassifolium', 2]],\n",
    "               3: [['Adenostoma fasciculatum', 3], ['Ceanothus cuneatus', 1], ['Quercus berberidifolia', 1]],\n",
    "               4: [['Adenostoma fasciculatum', 3], ['Ceanothus leucodermis', 1], ['Acmispon glaber', 1]],\n",
    "               8: [['Salvia mellifera', 3], ['Hesperoyucca whipplei', 1]],\n",
    "               9: [['Artemisia californica', 3], ['Malacothamnus fasciculatus', 1], ['Salvia mellifera', 1]],\n",
    "               10: [['Artemisia californica', 3], ['Ceanothus cuneatus', 1], ['Ceanothus crassifolius', 1]],\n",
    "               11: [['Eriodictyon crassifolium', 3], ['Ceanothus cuneatus', 1], ['Salvia mellifera', 1]],\n",
    "               12: [['Arctostaphylos glauca', 2], ['Ceanothus cuneatus', 2], ['Salvia mellifera', 2]]}"
   ]
  },
  {
   "cell_type": "code",
   "execution_count": 18,
   "metadata": {},
   "outputs": [
    {
     "data": {
      "text/plain": [
       "[['Ceanothus leucodermis', 2],\n",
       " ['Ceanothus cuneatus', 2],\n",
       " ['Eriodictyon crassifolium', 2]]"
      ]
     },
     "execution_count": 18,
     "metadata": {},
     "output_type": "execute_result"
    }
   ],
   "source": [
    "spececodict[2]"
   ]
  },
  {
   "cell_type": "markdown",
   "metadata": {},
   "source": [
    "We now want a function to wrap the values in the rasters (which are integer, integer, and float) and return the species group score. This should be robust to all the values in the rasters, including what it uses as NAs.\n",
    "\n",
    "This depends on the raster: for firecount and nsgeomorphon, it's 255.0, for slope it's nan."
   ]
  },
  {
   "cell_type": "code",
   "execution_count": 34,
   "metadata": {},
   "outputs": [],
   "source": [
    "def rastervalStep1a(specname, nsgeomorphon, firecount, slope):\n",
    "    #if ((nsgeomorphon == 255 ) or (firecount == 255) or np.isnan(slope)):\n",
    "    #if ((nsgeomorphon == 255 ) or (firecount == 255) or (slope > 10000)):\n",
    "    if np.any([nsgeomorphon == 255, firecount == 255, np.isnan(slope)]):    \n",
    "       return np.nan\n",
    "    else:\n",
    "        if(nsgeomorphon == 11):\n",
    "            nsgeomorphon2 = 'N'\n",
    "        elif(nsgeomorphon == 12):\n",
    "            nsgeomorphon2 = 'S'\n",
    "        else:\n",
    "            nsgeomorphon2 = 'variety'\n",
    "        \n",
    "        if (slope > 25):\n",
    "            slope2 = 'steep slopes'\n",
    "        else:\n",
    "            slope2 = 'not steep'\n",
    "    # print(nsgeomorphon2, slope2, firecount)\n",
    "        specval = speciesstep1(specname, nsgeomorphon2, slope2, firecount)\n",
    "        return specval\n",
    "\n",
    "    "
   ]
  },
  {
   "cell_type": "code",
   "execution_count": 35,
   "metadata": {},
   "outputs": [
    {
     "data": {
      "text/plain": [
       "30"
      ]
     },
     "execution_count": 35,
     "metadata": {},
     "output_type": "execute_result"
    }
   ],
   "source": [
    "rastervalStep1a('Adenostoma fasciculatum', 11, 3, 7)"
   ]
  },
  {
   "cell_type": "code",
   "execution_count": 50,
   "metadata": {},
   "outputs": [],
   "source": [
    "# calculate the raster map\n",
    "def rastervalStep1b(specname, nsgeomorphonrast, firecountrast, sloperast):\n",
    "    nsgeomorphonrast2 = nsgeomorphon.read()\n",
    "    firecountrast2 = firecountrast.read()\n",
    "    sloperast2 = sloperast.read()\n",
    "    vfunc = np.vectorize(rastervalStep1a) # this is key.\n",
    "    # outrast = rastervalStep1a(specname, nsgeomorphonrast2, firecountrast2, sloperast2)\n",
    "    outrast = vfunc(specname, nsgeomorphonrast2, firecountrast2, sloperast2)\n",
    "    return outrast\n",
    "    "
   ]
  },
  {
   "cell_type": "code",
   "execution_count": 23,
   "metadata": {},
   "outputs": [
    {
     "data": {
      "text/plain": [
       "<open DatasetReader name='datasets/firecount1962_2001CFmask.tif' mode='r'>"
      ]
     },
     "execution_count": 23,
     "metadata": {},
     "output_type": "execute_result"
    }
   ],
   "source": [
    "firecount"
   ]
  },
  {
   "cell_type": "code",
   "execution_count": 24,
   "metadata": {},
   "outputs": [
    {
     "data": {
      "text/plain": [
       "<open DatasetReader name='datasets/nsgeomorphonCFmask.tif' mode='r'>"
      ]
     },
     "execution_count": 24,
     "metadata": {},
     "output_type": "execute_result"
    }
   ],
   "source": [
    "nsgeomorphon"
   ]
  },
  {
   "cell_type": "code",
   "execution_count": 25,
   "metadata": {},
   "outputs": [
    {
     "data": {
      "text/plain": [
       "<open DatasetReader name='datasets/slopeCFmask.tif' mode='r'>"
      ]
     },
     "execution_count": 25,
     "metadata": {},
     "output_type": "execute_result"
    }
   ],
   "source": [
    "slope"
   ]
  },
  {
   "cell_type": "code",
   "execution_count": 47,
   "metadata": {},
   "outputs": [],
   "source": [
    "chamiserast = rastervalStep1b('Adenostoma fasciculatum', nsgeomorphon, firecount, slope)"
   ]
  },
  {
   "cell_type": "code",
   "execution_count": 48,
   "metadata": {},
   "outputs": [
    {
     "data": {
      "text/plain": [
       "array([[[nan, nan, nan, ..., nan, nan, nan],\n",
       "        [nan, nan, nan, ..., nan, nan, nan],\n",
       "        [nan, nan, nan, ..., nan, nan, nan],\n",
       "        ...,\n",
       "        [nan, nan, nan, ..., nan, nan, nan],\n",
       "        [nan, nan, nan, ..., nan, nan, nan],\n",
       "        [nan, nan, nan, ..., nan, nan, nan]]])"
      ]
     },
     "execution_count": 48,
     "metadata": {},
     "output_type": "execute_result"
    }
   ],
   "source": [
    "chamiserast"
   ]
  },
  {
   "cell_type": "code",
   "execution_count": 49,
   "metadata": {},
   "outputs": [
    {
     "data": {
      "text/plain": [
       "66.88918900039583"
      ]
     },
     "execution_count": 49,
     "metadata": {},
     "output_type": "execute_result"
    }
   ],
   "source": [
    "np.nanmean(chamiserast)"
   ]
  },
  {
   "cell_type": "code",
   "execution_count": 51,
   "metadata": {},
   "outputs": [
    {
     "data": {
      "image/png": "[encoded data removed]",
      "text/plain": [
       "<Figure size 432x288 with 1 Axes>"
      ]
     },
     "metadata": {
      "needs_background": "light"
     },
     "output_type": "display_data"
    },
    {
     "data": {
      "text/plain": [
       "<matplotlib.axes._subplots.AxesSubplot at 0x7ff8600c1eb8>"
      ]
     },
     "execution_count": 51,
     "metadata": {},
     "output_type": "execute_result"
    }
   ],
   "source": [
    "rasterio.plot.show(chamiserast,1)"
   ]
  },
  {
   "cell_type": "markdown",
   "metadata": {},
   "source": [
    "It looks like we lost our georeferencing here but that can be fixed."
   ]
  },
  {
   "cell_type": "code",
   "execution_count": 39,
   "metadata": {},
   "outputs": [
    {
     "data": {
      "text/plain": [
       "array([[[255, 255, 255, ..., 255, 255, 255],\n",
       "        [255, 255, 255, ..., 255, 255, 255],\n",
       "        [255, 255, 255, ..., 255, 255, 255],\n",
       "        ...,\n",
       "        [255, 255, 255, ..., 255, 255, 255],\n",
       "        [255, 255, 255, ..., 255, 255, 255],\n",
       "        [255, 255, 255, ..., 255, 255, 255]]], dtype=uint8)"
      ]
     },
     "execution_count": 39,
     "metadata": {},
     "output_type": "execute_result"
    }
   ],
   "source": [
    "n1"
   ]
  },
  {
   "cell_type": "code",
   "execution_count": 40,
   "metadata": {},
   "outputs": [],
   "source": [
    "s1 = slope.read()"
   ]
  },
  {
   "cell_type": "code",
   "execution_count": 41,
   "metadata": {},
   "outputs": [
    {
     "data": {
      "text/plain": [
       "array([[[nan, nan, nan, ..., nan, nan, nan],\n",
       "        [nan, nan, nan, ..., nan, nan, nan],\n",
       "        [nan, nan, nan, ..., nan, nan, nan],\n",
       "        ...,\n",
       "        [nan, nan, nan, ..., nan, nan, nan],\n",
       "        [nan, nan, nan, ..., nan, nan, nan],\n",
       "        [nan, nan, nan, ..., nan, nan, nan]]], dtype=float32)"
      ]
     },
     "execution_count": 41,
     "metadata": {},
     "output_type": "execute_result"
    }
   ],
   "source": [
    "s1"
   ]
  },
  {
   "cell_type": "code",
   "execution_count": 45,
   "metadata": {},
   "outputs": [
    {
     "data": {
      "text/plain": [
       "209.93778167741937"
      ]
     },
     "execution_count": 45,
     "metadata": {},
     "output_type": "execute_result"
    }
   ],
   "source": [
    "np.nanmean(f1)"
   ]
  },
  {
   "cell_type": "code",
   "execution_count": null,
   "metadata": {},
   "outputs": [],
   "source": []
  }
 ],
 "metadata": {
  "kernelspec": {
   "display_name": "Python 3",
   "language": "python",
   "name": "python3"
  },
  "language_info": {
   "codemirror_mode": {
    "name": "ipython",
    "version": 3
   },
   "file_extension": ".py",
   "mimetype": "text/x-python",
   "name": "python",
   "nbconvert_exporter": "python",
   "pygments_lexer": "ipython3",
   "version": "3.6.8"
  }
 },
 "nbformat": 4,
 "nbformat_minor": 2
}
